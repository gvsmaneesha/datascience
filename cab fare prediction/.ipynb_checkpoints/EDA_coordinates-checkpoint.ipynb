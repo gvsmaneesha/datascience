{
 "cells": [
  {
   "cell_type": "code",
   "execution_count": 1,
   "metadata": {},
   "outputs": [],
   "source": [
    "def data_cleaning_stage_cooridnates(df):   \n",
    "    #function to validate the latitude and longitude values\n",
    "    value=[]\n",
    "    def outliers(x,col,r,l):\n",
    "\n",
    "        q75, q25 = np.percentile(df['fare_amount'], [75 ,25])\n",
    "        #Calculate IQR\n",
    "        iqr = q75 - q25\n",
    "        #Calculate inner and outer fence\n",
    "        minimum = float(q25 - (iqr*1.5))\n",
    "        maximum = float(q75 + (iqr*1.5))\n",
    "        mean_dt = df[col].mean()\n",
    "        if (x < l)|(x > r):           \n",
    "            return mean_dt\n",
    "        elif x < minimum:\n",
    "            return mean_dt\n",
    "        elif x > maximum:\n",
    "            return mean_dt\n",
    "        else:\n",
    "            return round(x,3)\n",
    "\n",
    "    df['pickup_latitude']=df.apply(lambda row:outliers(row['pickup_latitude'],'pickup_latitude',90.0,-90.0),axis=1)\n",
    "    df['dropoff_latitude']=df.apply(lambda row:outliers(row['dropoff_latitude'],'dropoff_latitude',90.0,-90.0),axis=1)\n",
    "    df['pickup_longitude']=df.apply(lambda row:outliers(row['pickup_longitude'],'pickup_longitude',180.0,-180.0),axis=1)\n",
    "    df['dropoff_longitude']=df.apply(lambda row:outliers(row['dropoff_longitude'],'dropoff_longitude',180.0,-180.0),axis=1)\n",
    "    \n",
    "        \n",
    "    #function to calculate distance bewteen 2 cooridinates    \n",
    "    def calculateDistance(lat1,long1,lat2,long2):\n",
    "        radius = 6371\n",
    "        dlat = np.abs(np.radians(lat1)-np.radians(lat2))\n",
    "        dlong = np.abs(np.radians(long1)-np.radians(long2))\n",
    "        t1 = (np.sin(dlat/2)**2)+(np.cos(radians(lat1))*np.cos(radians(lat2))*np.sin(dlong/2)**2)\n",
    "        t2 = 2*(atan2(np.sqrt(t1),np.sqrt(1-t1)))\n",
    "        return radius*t2\n",
    "    \n",
    "    df['distance']=df.apply(lambda row:calculateDistance(row['pickup_latitude'],row['pickup_longitude'],row['dropoff_latitude'],row['dropoff_longitude']),axis=1)      \n",
    "    return df"
   ]
  }
 ],
 "metadata": {
  "kernelspec": {
   "display_name": "Python 3",
   "language": "python",
   "name": "python3"
  },
  "language_info": {
   "codemirror_mode": {
    "name": "ipython",
    "version": 3
   },
   "file_extension": ".py",
   "mimetype": "text/x-python",
   "name": "python",
   "nbconvert_exporter": "python",
   "pygments_lexer": "ipython3",
   "version": "3.7.1"
  }
 },
 "nbformat": 4,
 "nbformat_minor": 2
}
