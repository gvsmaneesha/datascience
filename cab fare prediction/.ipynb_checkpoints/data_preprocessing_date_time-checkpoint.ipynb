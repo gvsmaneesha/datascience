{
 "cells": [
  {
   "cell_type": "code",
   "execution_count": 1,
   "metadata": {},
   "outputs": [],
   "source": [
    "import pandas as pd\n",
    "import numpy as np\n",
    "from datetime import datetime \n",
    "import calendar\n",
    "import re\n",
    "\n",
    "def calculateDateTime(df):\n",
    "    mode_dt = df['pickup_datetime'].mode()[0]\n",
    "    print(mode_dt)\n",
    "    #regular expression to validate time format\n",
    "    #replace the date string with mode value if the date doesnot match\n",
    "    def date_validation(str1):\n",
    "        r = re.compile('[0-9][0-9][0-9][0-9]-[0-9][0-9]-[0-9][0-9] [0-9][0-9]:[0-9][0-9]:[0-9][0-9] UTC')\n",
    "        if r.match(str1):           \n",
    "            return str1\n",
    "        else:\n",
    "            return mode_dt\n",
    "        \n",
    "    def time_date_outliers(value,x,lower,upper):\n",
    "        value = int(value)\n",
    "        if (value < lower|value > upper):\n",
    "            return df[x].mode()\n",
    "        return value\n",
    "        \n",
    "    df['pickup_datetime']=df.apply(lambda row:date_validation(str(row['pickup_datetime'])),axis=1)\n",
    "    df['pickup_datetime']=pd.to_datetime(df['pickup_datetime'],format='%Y-%m-%d %H:%M:%S UTC')\n",
    "    df['day_week']=df['pickup_datetime'].apply(lambda x:calendar.day_name[x.weekday()])\n",
    "    df['date']= df['pickup_datetime'].dt.date\n",
    "    df['day']=df['pickup_datetime'].apply(lambda x:x.day)\n",
    "    df['hr']=df['pickup_datetime'].apply(lambda x:x.hour)\n",
    "    df['month']=df['pickup_datetime'].apply(lambda x:x.month)\n",
    "    df['year']=df['pickup_datetime'].apply(lambda x:x.year)\n",
    "    \n",
    "    #month validation\n",
    "    df[\"month\"]=df.apply(lambda row: time_date_outliers(row[\"month\"],\"month\",1,12) if (row[\"month\"] not in range(0,13)) else row[\"month\"],axis=1)\n",
    "        \n",
    "    #day validation\n",
    "    df[\"day\"]=df.apply(lambda row: time_date_outliers(row[\"day\"],\"day\",1,30) if (row[\"month\"] in [4,6,9,11]) else row[\"month\"],axis=1)\n",
    "    df[\"day\"]=df.apply(lambda row: time_date_outliers(row[\"day\"],\"day\",1,31) if (row[\"month\"] in [1,3,5,7,8,10,12]) else row[\"month\"],axis=1)\n",
    "    df[\"day\"]=df.apply(lambda row: time_date_outliers(row[\"day\"],\"day\",1,31) if (row[\"month\"] == 2) else row[\"month\"],axis=1)\n",
    "    \n",
    "    print(\"end of date time validation\")\n",
    "    return df\n",
    "\n",
    "\n",
    "    #df['date']=df['pickup_datetime'].str.rsplit(\" \", n=2, expand=True)[0]\n",
    "    #df['time']=df['pickup_datetime'].str.rsplit(\" \", n=2, expand=True)[1]\n",
    "    #df['year']=df['date'].str.rsplit(\"-\", n=3, expand=True)[0]\n",
    "    #df['month']=pd.to_numeric(df['date'].str.rsplit(\"-\", n=3, expand=True)[1])\n",
    "    #df['day']=pd.to_numeric(df['date'].str.rsplit(\"-\", n=3, expand=True)[2])\n",
    "    #df['hr']=pd.to_numeric(df['time'].str.rsplit(\":\", n=2, expand=True)[0])"
   ]
  },
  {
   "cell_type": "code",
   "execution_count": null,
   "metadata": {},
   "outputs": [],
   "source": []
  }
 ],
 "metadata": {
  "kernelspec": {
   "display_name": "Python 3",
   "language": "python",
   "name": "python3"
  },
  "language_info": {
   "codemirror_mode": {
    "name": "ipython",
    "version": 3
   },
   "file_extension": ".py",
   "mimetype": "text/x-python",
   "name": "python",
   "nbconvert_exporter": "python",
   "pygments_lexer": "ipython3",
   "version": "3.7.1"
  }
 },
 "nbformat": 4,
 "nbformat_minor": 2
}
