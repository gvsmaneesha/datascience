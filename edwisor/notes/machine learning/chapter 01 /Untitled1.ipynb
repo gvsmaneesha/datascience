{
 "cells": [
  {
   "cell_type": "code",
   "execution_count": 43,
   "metadata": {},
   "outputs": [],
   "source": [
    "#Load libraries\n",
    "import os\n",
    "import pandas as pd\n",
    "import numpy as np\n",
    "from sklearn.model_selection import train_test_split\n",
    "#Import libraries for LR\n",
    "import statsmodels.api as sm\n",
    "\n",
    "\n",
    "\n",
    "\n",
    "\n",
    "# In[ ]:\n",
    "\n",
    "\n",
    "#Set working directory\n",
    "os.chdir(\"/Users/maneeshagvs/Documents/Datasets\")\n",
    "\n",
    "\n",
    "# In[ ]:\n",
    "\n",
    "\n",
    "#Load data\n",
    "df = pd.read_csv(\"df.csv\")\n",
    "\n",
    "\n",
    "# In[ ]:\n",
    "\n",
    "\n",
    "#Divide data into train and test\n",
    "train, test = train_test_split(df, test_size=0.2)\n"
   ]
  },
  {
   "cell_type": "code",
   "execution_count": null,
   "metadata": {},
   "outputs": [],
   "source": []
  },
  {
   "cell_type": "code",
   "execution_count": 66,
   "metadata": {},
   "outputs": [],
   "source": [
    "model = sm.OLS(train.iloc[:,10],train.iloc[:,0:10]).fit()"
   ]
  },
  {
   "cell_type": "code",
   "execution_count": 67,
   "metadata": {},
   "outputs": [
    {
     "data": {
      "text/html": [
       "<table class=\"simpletable\">\n",
       "<caption>OLS Regression Results</caption>\n",
       "<tr>\n",
       "  <th>Dep. Variable:</th>           <td>bwt</td>       <th>  R-squared:         </th> <td>   0.994</td> \n",
       "</tr>\n",
       "<tr>\n",
       "  <th>Model:</th>                   <td>OLS</td>       <th>  Adj. R-squared:    </th> <td>   0.993</td> \n",
       "</tr>\n",
       "<tr>\n",
       "  <th>Method:</th>             <td>Least Squares</td>  <th>  F-statistic:       </th> <td>   2193.</td> \n",
       "</tr>\n",
       "<tr>\n",
       "  <th>Date:</th>             <td>Fri, 19 Apr 2019</td> <th>  Prob (F-statistic):</th> <td>2.23e-149</td>\n",
       "</tr>\n",
       "<tr>\n",
       "  <th>Time:</th>                 <td>11:10:58</td>     <th>  Log-Likelihood:    </th> <td> -1042.2</td> \n",
       "</tr>\n",
       "<tr>\n",
       "  <th>No. Observations:</th>      <td>   151</td>      <th>  AIC:               </th> <td>   2104.</td> \n",
       "</tr>\n",
       "<tr>\n",
       "  <th>Df Residuals:</th>          <td>   141</td>      <th>  BIC:               </th> <td>   2134.</td> \n",
       "</tr>\n",
       "<tr>\n",
       "  <th>Df Model:</th>              <td>    10</td>      <th>                     </th>     <td> </td>    \n",
       "</tr>\n",
       "<tr>\n",
       "  <th>Covariance Type:</th>      <td>nonrobust</td>    <th>                     </th>     <td> </td>    \n",
       "</tr>\n",
       "</table>\n",
       "<table class=\"simpletable\">\n",
       "<tr>\n",
       "       <td></td>         <th>coef</th>     <th>std err</th>      <th>t</th>      <th>P>|t|</th>  <th>[0.025</th>    <th>0.975]</th>  \n",
       "</tr>\n",
       "<tr>\n",
       "  <th>Unnamed: 0</th> <td>   14.7643</td> <td>    0.486</td> <td>   30.392</td> <td> 0.000</td> <td>   13.804</td> <td>   15.725</td>\n",
       "</tr>\n",
       "<tr>\n",
       "  <th>low</th>        <td>  421.4654</td> <td>   69.487</td> <td>    6.065</td> <td> 0.000</td> <td>  284.094</td> <td>  558.837</td>\n",
       "</tr>\n",
       "<tr>\n",
       "  <th>age</th>        <td>   20.8396</td> <td>    3.381</td> <td>    6.163</td> <td> 0.000</td> <td>   14.155</td> <td>   27.524</td>\n",
       "</tr>\n",
       "<tr>\n",
       "  <th>lwt</th>        <td>    2.2554</td> <td>    0.688</td> <td>    3.278</td> <td> 0.001</td> <td>    0.895</td> <td>    3.616</td>\n",
       "</tr>\n",
       "<tr>\n",
       "  <th>race</th>       <td>  100.8164</td> <td>   21.174</td> <td>    4.761</td> <td> 0.000</td> <td>   58.956</td> <td>  142.676</td>\n",
       "</tr>\n",
       "<tr>\n",
       "  <th>smoke</th>      <td>  135.4896</td> <td>   44.707</td> <td>    3.031</td> <td> 0.003</td> <td>   47.108</td> <td>  223.871</td>\n",
       "</tr>\n",
       "<tr>\n",
       "  <th>ptl</th>        <td>  -51.8232</td> <td>   41.683</td> <td>   -1.243</td> <td> 0.216</td> <td> -134.228</td> <td>   30.582</td>\n",
       "</tr>\n",
       "<tr>\n",
       "  <th>ht</th>         <td> -127.1628</td> <td>   90.282</td> <td>   -1.409</td> <td> 0.161</td> <td> -305.644</td> <td>   51.319</td>\n",
       "</tr>\n",
       "<tr>\n",
       "  <th>ui</th>         <td>   76.0289</td> <td>   56.861</td> <td>    1.337</td> <td> 0.183</td> <td>  -36.381</td> <td>  188.439</td>\n",
       "</tr>\n",
       "<tr>\n",
       "  <th>ftv</th>        <td>   -0.8659</td> <td>   19.700</td> <td>   -0.044</td> <td> 0.965</td> <td>  -39.811</td> <td>   38.079</td>\n",
       "</tr>\n",
       "</table>\n",
       "<table class=\"simpletable\">\n",
       "<tr>\n",
       "  <th>Omnibus:</th>       <td>34.243</td> <th>  Durbin-Watson:     </th> <td>   1.889</td>\n",
       "</tr>\n",
       "<tr>\n",
       "  <th>Prob(Omnibus):</th> <td> 0.000</td> <th>  Jarque-Bera (JB):  </th> <td>  78.023</td>\n",
       "</tr>\n",
       "<tr>\n",
       "  <th>Skew:</th>          <td>-0.952</td> <th>  Prob(JB):          </th> <td>1.14e-17</td>\n",
       "</tr>\n",
       "<tr>\n",
       "  <th>Kurtosis:</th>      <td> 5.962</td> <th>  Cond. No.          </th> <td>    833.</td>\n",
       "</tr>\n",
       "</table><br/><br/>Warnings:<br/>[1] Standard Errors assume that the covariance matrix of the errors is correctly specified."
      ],
      "text/plain": [
       "<class 'statsmodels.iolib.summary.Summary'>\n",
       "\"\"\"\n",
       "                            OLS Regression Results                            \n",
       "==============================================================================\n",
       "Dep. Variable:                    bwt   R-squared:                       0.994\n",
       "Model:                            OLS   Adj. R-squared:                  0.993\n",
       "Method:                 Least Squares   F-statistic:                     2193.\n",
       "Date:                Fri, 19 Apr 2019   Prob (F-statistic):          2.23e-149\n",
       "Time:                        11:10:58   Log-Likelihood:                -1042.2\n",
       "No. Observations:                 151   AIC:                             2104.\n",
       "Df Residuals:                     141   BIC:                             2134.\n",
       "Df Model:                          10                                         \n",
       "Covariance Type:            nonrobust                                         \n",
       "==============================================================================\n",
       "                 coef    std err          t      P>|t|      [0.025      0.975]\n",
       "------------------------------------------------------------------------------\n",
       "Unnamed: 0    14.7643      0.486     30.392      0.000      13.804      15.725\n",
       "low          421.4654     69.487      6.065      0.000     284.094     558.837\n",
       "age           20.8396      3.381      6.163      0.000      14.155      27.524\n",
       "lwt            2.2554      0.688      3.278      0.001       0.895       3.616\n",
       "race         100.8164     21.174      4.761      0.000      58.956     142.676\n",
       "smoke        135.4896     44.707      3.031      0.003      47.108     223.871\n",
       "ptl          -51.8232     41.683     -1.243      0.216    -134.228      30.582\n",
       "ht          -127.1628     90.282     -1.409      0.161    -305.644      51.319\n",
       "ui            76.0289     56.861      1.337      0.183     -36.381     188.439\n",
       "ftv           -0.8659     19.700     -0.044      0.965     -39.811      38.079\n",
       "==============================================================================\n",
       "Omnibus:                       34.243   Durbin-Watson:                   1.889\n",
       "Prob(Omnibus):                  0.000   Jarque-Bera (JB):               78.023\n",
       "Skew:                          -0.952   Prob(JB):                     1.14e-17\n",
       "Kurtosis:                       5.962   Cond. No.                         833.\n",
       "==============================================================================\n",
       "\n",
       "Warnings:\n",
       "[1] Standard Errors assume that the covariance matrix of the errors is correctly specified.\n",
       "\"\"\""
      ]
     },
     "execution_count": 67,
     "metadata": {},
     "output_type": "execute_result"
    }
   ],
   "source": [
    "model.summary()"
   ]
  },
  {
   "cell_type": "code",
   "execution_count": 68,
   "metadata": {},
   "outputs": [],
   "source": [
    "# make the predictions by the model\n",
    "\n",
    "predictions_LR = model.predict(test.iloc[:,0:10]) "
   ]
  },
  {
   "cell_type": "code",
   "execution_count": 69,
   "metadata": {},
   "outputs": [
    {
     "data": {
      "text/plain": [
       "5.444982614575303"
      ]
     },
     "execution_count": 69,
     "metadata": {},
     "output_type": "execute_result"
    }
   ],
   "source": [
    "#Calculate MAPE\n",
    "def MAPE(y_true, y_pred): \n",
    "    mape = np.mean(np.abs((y_true - y_pred) / y_true))*100\n",
    "    return mape\n",
    "#Calculate MAPE\n",
    "MAPE(test.iloc[:,10], predictions_LR)"
   ]
  },
  {
   "cell_type": "code",
   "execution_count": null,
   "metadata": {},
   "outputs": [],
   "source": []
  },
  {
   "cell_type": "code",
   "execution_count": null,
   "metadata": {},
   "outputs": [],
   "source": []
  }
 ],
 "metadata": {
  "kernelspec": {
   "display_name": "Python 2",
   "language": "python",
   "name": "python2"
  },
  "language_info": {
   "codemirror_mode": {
    "name": "ipython",
    "version": 2
   },
   "file_extension": ".py",
   "mimetype": "text/x-python",
   "name": "python",
   "nbconvert_exporter": "python",
   "pygments_lexer": "ipython2",
   "version": "2.7.16"
  }
 },
 "nbformat": 4,
 "nbformat_minor": 2
}
