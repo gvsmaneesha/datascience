{
 "cells": [
  {
   "cell_type": "code",
   "execution_count": 1,
   "metadata": {},
   "outputs": [],
   "source": [
    "#imported regular expression library\n",
    "import regex as re\n",
    "def remove_words(my_line):\n",
    "    new_line =''\n",
    "    compiler_thr = re.compile(r\"thr\")\n",
    "    compiler_u = re.compile(r\"u\")\n",
    "    compiler_bcz = re.compile(r\"bcz\") # inorder to read the regular expression and comp,\n",
    "    for i in my_line.split():\n",
    "        if i in compiler_thr.findall(my_line):\n",
    "            new_line = new_line + ' ' + 'there' # replace the thr with there\n",
    "        elif i in compiler_u.findall(my_line):\n",
    "            new_line = new_line + ' ' + 'you' # replace the you with there\n",
    "        elif i in compiler_bcz.findall(my_line):\n",
    "            new_line = new_line + ' ' + 'because' # replace the bcz with because\n",
    "        else:\n",
    "            new_line = new_line + ' ' + i\n",
    "    return new_line\n"
   ]
  },
  {
   "cell_type": "code",
   "execution_count": 2,
   "metadata": {},
   "outputs": [
    {
     "data": {
      "text/plain": [
       "' because of you i am there'"
      ]
     },
     "execution_count": 2,
     "metadata": {},
     "output_type": "execute_result"
    }
   ],
   "source": [
    "remove_words(\"bcz of u i am thr\")\n"
   ]
  },
  {
   "cell_type": "code",
   "execution_count": null,
   "metadata": {},
   "outputs": [],
   "source": []
  }
 ],
 "metadata": {
  "kernelspec": {
   "display_name": "Python 2",
   "language": "python",
   "name": "python2"
  },
  "language_info": {
   "codemirror_mode": {
    "name": "ipython",
    "version": 2
   },
   "file_extension": ".py",
   "mimetype": "text/x-python",
   "name": "python",
   "nbconvert_exporter": "python",
   "pygments_lexer": "ipython2",
   "version": "2.7.16"
  }
 },
 "nbformat": 4,
 "nbformat_minor": 2
}
