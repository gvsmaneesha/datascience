{
 "cells": [
  {
   "cell_type": "code",
   "execution_count": 502,
   "metadata": {},
   "outputs": [],
   "source": [
    "import pandas as pd\n",
    "import numpy as np \n",
    "import matplotlib.pyplot as plt \n",
    "import seaborn as sns \n",
    "from datetime import datetime \n",
    "import calendar\n",
    "from googletrans import Translator\n",
    "from math import sin,cos,atan2,sqrt,radians,asin\n",
    "from datetime import datetime \n",
    "import calendar\n",
    "import re\n",
    "import statsmodels.api as sm\n",
    "from sklearn.model_selection import train_test_split"
   ]
  },
  {
   "cell_type": "code",
   "execution_count": 503,
   "metadata": {},
   "outputs": [
    {
     "name": "stdout",
     "output_type": "stream",
     "text": [
      "missing values in train passenger_count      55\n",
      "fare_amount          24\n",
      "dropoff_latitude      0\n",
      "dropoff_longitude     0\n",
      "pickup_latitude       0\n",
      "pickup_longitude      0\n",
      "pickup_datetime       0\n",
      "dtype: int64\n",
      "missing value in test passenger_count      0\n",
      "dropoff_latitude     0\n",
      "dropoff_longitude    0\n",
      "pickup_latitude      0\n",
      "pickup_longitude     0\n",
      "pickup_datetime      0\n",
      "dtype: int64\n"
     ]
    }
   ],
   "source": [
    "###load training and test data and also calculate the missing values#############\n",
    "train = pd.read_csv(\"train_cab.csv\")\n",
    "test = pd.read_csv(\"test.csv\")\n",
    "\n",
    "print(\"missing values in train\",train.isnull().sum().sort_values(ascending=False))\n",
    "print(\"missing value in test\",test.isnull().sum().sort_values(ascending=False))"
   ]
  },
  {
   "cell_type": "code",
   "execution_count": 504,
   "metadata": {},
   "outputs": [
    {
     "name": "stdout",
     "output_type": "stream",
     "text": [
      "<class 'pandas.core.frame.DataFrame'>\n",
      "RangeIndex: 16067 entries, 0 to 16066\n",
      "Data columns (total 7 columns):\n",
      "fare_amount          16043 non-null object\n",
      "pickup_datetime      16067 non-null object\n",
      "pickup_longitude     16067 non-null float64\n",
      "pickup_latitude      16067 non-null float64\n",
      "dropoff_longitude    16067 non-null float64\n",
      "dropoff_latitude     16067 non-null float64\n",
      "passenger_count      16012 non-null float64\n",
      "dtypes: float64(5), object(2)\n",
      "memory usage: 878.7+ KB\n"
     ]
    }
   ],
   "source": [
    "train.info()"
   ]
  },
  {
   "cell_type": "code",
   "execution_count": 505,
   "metadata": {},
   "outputs": [
    {
     "data": {
      "text/html": [
       "<div>\n",
       "<style scoped>\n",
       "    .dataframe tbody tr th:only-of-type {\n",
       "        vertical-align: middle;\n",
       "    }\n",
       "\n",
       "    .dataframe tbody tr th {\n",
       "        vertical-align: top;\n",
       "    }\n",
       "\n",
       "    .dataframe thead th {\n",
       "        text-align: right;\n",
       "    }\n",
       "</style>\n",
       "<table border=\"1\" class=\"dataframe\">\n",
       "  <thead>\n",
       "    <tr style=\"text-align: right;\">\n",
       "      <th></th>\n",
       "      <th>fare_amount</th>\n",
       "      <th>pickup_datetime</th>\n",
       "      <th>pickup_longitude</th>\n",
       "      <th>pickup_latitude</th>\n",
       "      <th>dropoff_longitude</th>\n",
       "      <th>dropoff_latitude</th>\n",
       "      <th>passenger_count</th>\n",
       "    </tr>\n",
       "  </thead>\n",
       "  <tbody>\n",
       "    <tr>\n",
       "      <th>0</th>\n",
       "      <td>4.5</td>\n",
       "      <td>2009-06-15 17:26:21 UTC</td>\n",
       "      <td>-73.844311</td>\n",
       "      <td>40.721319</td>\n",
       "      <td>-73.841610</td>\n",
       "      <td>40.712278</td>\n",
       "      <td>1.0</td>\n",
       "    </tr>\n",
       "    <tr>\n",
       "      <th>1</th>\n",
       "      <td>16.9</td>\n",
       "      <td>2010-01-05 16:52:16 UTC</td>\n",
       "      <td>-74.016048</td>\n",
       "      <td>40.711303</td>\n",
       "      <td>-73.979268</td>\n",
       "      <td>40.782004</td>\n",
       "      <td>1.0</td>\n",
       "    </tr>\n",
       "    <tr>\n",
       "      <th>2</th>\n",
       "      <td>5.7</td>\n",
       "      <td>2011-08-18 00:35:00 UTC</td>\n",
       "      <td>-73.982738</td>\n",
       "      <td>40.761270</td>\n",
       "      <td>-73.991242</td>\n",
       "      <td>40.750562</td>\n",
       "      <td>2.0</td>\n",
       "    </tr>\n",
       "    <tr>\n",
       "      <th>3</th>\n",
       "      <td>7.7</td>\n",
       "      <td>2012-04-21 04:30:42 UTC</td>\n",
       "      <td>-73.987130</td>\n",
       "      <td>40.733143</td>\n",
       "      <td>-73.991567</td>\n",
       "      <td>40.758092</td>\n",
       "      <td>1.0</td>\n",
       "    </tr>\n",
       "    <tr>\n",
       "      <th>4</th>\n",
       "      <td>5.3</td>\n",
       "      <td>2010-03-09 07:51:00 UTC</td>\n",
       "      <td>-73.968095</td>\n",
       "      <td>40.768008</td>\n",
       "      <td>-73.956655</td>\n",
       "      <td>40.783762</td>\n",
       "      <td>1.0</td>\n",
       "    </tr>\n",
       "  </tbody>\n",
       "</table>\n",
       "</div>"
      ],
      "text/plain": [
       "  fare_amount          pickup_datetime  pickup_longitude  pickup_latitude  \\\n",
       "0         4.5  2009-06-15 17:26:21 UTC        -73.844311        40.721319   \n",
       "1        16.9  2010-01-05 16:52:16 UTC        -74.016048        40.711303   \n",
       "2         5.7  2011-08-18 00:35:00 UTC        -73.982738        40.761270   \n",
       "3         7.7  2012-04-21 04:30:42 UTC        -73.987130        40.733143   \n",
       "4         5.3  2010-03-09 07:51:00 UTC        -73.968095        40.768008   \n",
       "\n",
       "   dropoff_longitude  dropoff_latitude  passenger_count  \n",
       "0         -73.841610         40.712278              1.0  \n",
       "1         -73.979268         40.782004              1.0  \n",
       "2         -73.991242         40.750562              2.0  \n",
       "3         -73.991567         40.758092              1.0  \n",
       "4         -73.956655         40.783762              1.0  "
      ]
     },
     "execution_count": 505,
     "metadata": {},
     "output_type": "execute_result"
    }
   ],
   "source": [
    "train.head()"
   ]
  },
  {
   "cell_type": "code",
   "execution_count": 506,
   "metadata": {},
   "outputs": [
    {
     "name": "stdout",
     "output_type": "stream",
     "text": [
      "37 , 45.0153\n",
      "-79.7624 , -71.7517\n"
     ]
    }
   ],
   "source": [
    "train.describe()\n",
    "\n",
    "''' based on the analysis , the latitude and logitude values are matching with the newyork coordinates hence we can \n",
    "    that the cab fare should be calculated in the newyork city\n",
    "\n",
    "'''\n",
    "lat_min=37\n",
    "lat_max=45.0153\n",
    "lon_min=-79.7624\n",
    "lon_max=-71.7517\n",
    "\n",
    "print(lat_min,',',lat_max)\n",
    "print(lon_min,',',lon_max)"
   ]
  },
  {
   "cell_type": "code",
   "execution_count": 507,
   "metadata": {},
   "outputs": [],
   "source": [
    "### methods that are used for data cleaning and exploratory data analysis\n",
    "\n",
    "def data_cleaning_stage_cooridnates(df):\n",
    "    \n",
    "    #make the co-ordinates which are out of range to null and remove those records later\n",
    "    df['pickup_latitude']=df.apply(lambda row: np.nan if((row['pickup_latitude'] < lat_min)|(row['pickup_latitude']> lat_max)) else row['pickup_latitude'],axis=1)\n",
    "    df['dropoff_latitude']=df.apply(lambda row: np.nan if((row['dropoff_latitude'] < lat_min)|(row['dropoff_latitude']> lat_max)) else row['pickup_latitude'],axis=1)\n",
    "    df['pickup_longitude']=df.apply(lambda row: np.nan if((row['pickup_longitude'] < lon_min)|(row['pickup_longitude']> lon_max)) else row['pickup_longitude'],axis=1)\n",
    "    df['dropoff_longitude']=df.apply(lambda row: np.nan if((row['dropoff_longitude'] < lon_min)|(row['dropoff_longitude']> lon_max)) else row['dropoff_longitude'],axis=1)\n",
    "\n",
    "    #function to calculate distance bewteen 2 cooridinates    \n",
    "    def calculateDistance(lat1,long1,lat2,long2):\n",
    "        radius = 6371\n",
    "        dlat = np.abs(np.radians(lat1)-np.radians(lat2))\n",
    "        dlong = np.abs(np.radians(long1)-np.radians(long2))\n",
    "        t1 = (np.sin(dlat/2)**2)+(np.cos(radians(lat1))*np.cos(radians(lat2))*np.sin(dlong/2)**2)\n",
    "        t2 = 2*(atan2(np.sqrt(t1),np.sqrt(1-t1)))\n",
    "        return radius*t2\n",
    "    \n",
    "    #call to distance function to calculate based on the latitude and longitude values provided\n",
    "    df['distance']=df.apply(lambda row:calculateDistance(row['pickup_latitude'],row['pickup_longitude'],row['dropoff_latitude'],row['dropoff_longitude']),axis=1)      \n",
    "    \n",
    "    print(\"end of the co_ordinates preprocessing\")\n",
    "    return df\n",
    "\n",
    "\n",
    "def calculateDateTime(df):\n",
    "    mode_dt = df['pickup_datetime'].mode()[0]\n",
    "    print(mode_dt)\n",
    "    \n",
    "    #replace the date string with mode if the date doesnot match\n",
    "    def date_validation(str1):\n",
    "        r = re.compile('[1-2][0-9][0-9][0-9]-[0-1][0-9]-[0-3][0-9] [0-2][0-3]:[0-5][0-9]:[0-5][0-9] UTC')\n",
    "        if r.match(str1):           \n",
    "            return str1\n",
    "        else:\n",
    "            return mode_dt\n",
    "        \n",
    "    def time_date_outliers(value,x,lower,upper):\n",
    "        value = int(value)\n",
    "        if (value < lower|value > upper):\n",
    "            return int(df[x].mode())\n",
    "        return int(value)\n",
    "    \n",
    "    df['pickup_datetime']=df.apply(lambda row:date_validation(str(row['pickup_datetime'])),axis=1)\n",
    "    df['pickup_datetime']=pd.to_datetime(df['pickup_datetime'],format='%Y-%m-%d %H:%M:%S UTC')\n",
    "    df['day_week']=df['pickup_datetime'].apply(lambda x:calendar.day_name[x.weekday()])\n",
    "    df['date']= df['pickup_datetime'].dt.date\n",
    "    df['day']=df['pickup_datetime'].apply(lambda x:x.day)\n",
    "    df['hr']=df['pickup_datetime'].apply(lambda x:x.hour)\n",
    "    df['month']=df['pickup_datetime'].apply(lambda x:x.month)\n",
    "    df['year']=df['pickup_datetime'].apply(lambda x:x.year)\n",
    "    \n",
    "    #month validation\n",
    "    df[\"month\"]=df.apply(lambda row: time_date_outliers(row[\"month\"],\"month\",1,12) if (row[\"month\"] not in range(0,13)) else row[\"month\"],axis=1)\n",
    "        \n",
    "    #day validation\n",
    "    df[\"day\"]=df.apply(lambda row: time_date_outliers(row[\"day\"],\"day\",1,30) if (row[\"month\"] in [4,6,9,11]) else row[\"month\"],axis=1)\n",
    "    df[\"day\"]=df.apply(lambda row: time_date_outliers(row[\"day\"],\"day\",1,31) if (row[\"month\"] in [1,3,5,7,8,10,12]) else row[\"month\"],axis=1)\n",
    "    df[\"day\"]=df.apply(lambda row: time_date_outliers(row[\"day\"],\"day\",1,31) if (row[\"month\"] == 2) else row[\"month\"],axis=1)\n",
    "    \n",
    "    print(\"end of date time validation\")\n",
    "    #df=df.drop('pickup_datetime',axis=1)\n",
    "    return df\n",
    "\n",
    "def calculateFare(df):\n",
    "    df['fare_amount']=df['fare_amount'].astype(np.float64)\n",
    "    fare = train['distance'].max()*1.56+52\n",
    "    ''' the fare can be at max of 250$ , considering airport as highest fare and on computation the max fare is 165$'''\n",
    "    return df[(df['fare_amount'] >= 2.5) & (df['fare_amount'] <= 250)]\n",
    "\n",
    "#assuming that maximum passengers in cab would be 6 and if it considered as bus it is 12, replace the other values with null\n",
    "def calculatePassengerCount(df):\n",
    "    \n",
    "    m = df[(df['passenger_count']>=1)|(df['passenger_count']<=6)]['passenger_count'].mode()\n",
    "    df['passenger_count']=df.apply(lambda row:  m if (row['passenger_count'] not in range(1,7)) else row['passenger_count'],axis=1)\n",
    "    return df \n",
    "\n",
    "#replace the string with npa if it contains any apart from numericals\n",
    "def string_validation(str1):\n",
    "        if type(str1)==type('string'):\n",
    "            r = re.compile('.*[(+*)-]|[A-Z]|[a-b].*')\n",
    "            if r.match(str1):           \n",
    "                return np.nan\n",
    "            else:\n",
    "                return float(str1)\n",
    "            \n",
    "#convert the set of columns to float            \n",
    "def convert_to_float(df,float_columns):\n",
    "    for i in float_columns:\n",
    "        df[i]=df[i].astype(float)\n",
    "    return df\n",
    "\n",
    "#identify the missing values and drop off\n",
    "def missing_values(df):\n",
    "    for i in df.columns:\n",
    "        if(df[i].isnull().sum() != 0):\n",
    "            print(i,\":missing values before drop:\",df[i].isnull().sum())\n",
    "            df=df.drop(df[df[i].isnull()].index,axis=0)\n",
    "            print(i,\":missing values after drop:\",df[i].isnull().sum())\n",
    "    return df  \n"
   ]
  },
  {
   "cell_type": "code",
   "execution_count": 508,
   "metadata": {},
   "outputs": [],
   "source": [
    "#type conversions of train data\n",
    "float_columns=['pickup_latitude','pickup_longitude','dropoff_longitude','dropoff_latitude']\n",
    "train['fare_amount']=train.apply(lambda row:string_validation(row['fare_amount']),axis=1)\n",
    "train=convert_to_float(train,float_columns)"
   ]
  },
  {
   "cell_type": "code",
   "execution_count": 509,
   "metadata": {},
   "outputs": [
    {
     "name": "stdout",
     "output_type": "stream",
     "text": [
      "2009-04-18 20:44:00 UTC\n",
      "end of date time validation\n",
      "end of the co_ordinates preprocessing\n",
      "fare_amount :missing values before drop: 28\n",
      "fare_amount :missing values after drop: 0\n",
      "pickup_longitude :missing values before drop: 322\n",
      "pickup_longitude :missing values after drop: 0\n",
      "pickup_latitude :missing values before drop: 1\n",
      "pickup_latitude :missing values after drop: 0\n",
      "dropoff_longitude :missing values before drop: 12\n",
      "dropoff_longitude :missing values after drop: 0\n",
      "dropoff_latitude :missing values before drop: 1\n",
      "dropoff_latitude :missing values after drop: 0\n"
     ]
    }
   ],
   "source": [
    "#DateTime validation and EDA of train data\n",
    "\n",
    "''' if the latitude and logitude value are incorrect that data has no value hence we will be droping all the rows\n",
    "that are out of newyork city range. The same with the target variable : fare_amount\n",
    "\n",
    "'''\n",
    "train=calculateDateTime(train)\n",
    "#latitude and longitude validation and also distance calculation\n",
    "train=data_cleaning_stage_cooridnates(train)\n",
    "#Passenger count validation\n",
    "train=calculatePassengerCount(train)\n",
    "#drop the list of missing values\n",
    "train=missing_values(train)\n",
    "#convert the values\n",
    "train['passenger_count']=train['passenger_count'].astype(int)\n",
    "\n",
    "train = calculateFare(train)"
   ]
  },
  {
   "cell_type": "code",
   "execution_count": 510,
   "metadata": {},
   "outputs": [
    {
     "name": "stdout",
     "output_type": "stream",
     "text": [
      "2011-12-13 22:00:00 UTC\n",
      "end of date time validation\n",
      "end of the co_ordinates preprocessing\n"
     ]
    }
   ],
   "source": [
    "#DateTime validation and EDA of test data\n",
    "test=calculateDateTime(test)\n",
    "#latitude and longitude validation and also distance calculation\n",
    "test=data_cleaning_stage_cooridnates(test)\n",
    "#drop the list of missing values\n",
    "test=missing_values(test)\n",
    "#Passenger count validation\n",
    "test=calculatePassengerCount(test)\n",
    "#type conversion od test data\n",
    "test=convert_to_float(test,float_columns)\n",
    "test['passenger_count']=test['passenger_count'].astype(int)"
   ]
  },
  {
   "cell_type": "code",
   "execution_count": 511,
   "metadata": {},
   "outputs": [
    {
     "data": {
      "text/html": [
       "<div>\n",
       "<style scoped>\n",
       "    .dataframe tbody tr th:only-of-type {\n",
       "        vertical-align: middle;\n",
       "    }\n",
       "\n",
       "    .dataframe tbody tr th {\n",
       "        vertical-align: top;\n",
       "    }\n",
       "\n",
       "    .dataframe thead th {\n",
       "        text-align: right;\n",
       "    }\n",
       "</style>\n",
       "<table border=\"1\" class=\"dataframe\">\n",
       "  <thead>\n",
       "    <tr style=\"text-align: right;\">\n",
       "      <th></th>\n",
       "      <th>fare_amount</th>\n",
       "      <th>pickup_longitude</th>\n",
       "      <th>pickup_latitude</th>\n",
       "      <th>dropoff_longitude</th>\n",
       "      <th>dropoff_latitude</th>\n",
       "      <th>passenger_count</th>\n",
       "      <th>day</th>\n",
       "      <th>hr</th>\n",
       "      <th>month</th>\n",
       "      <th>year</th>\n",
       "      <th>distance</th>\n",
       "    </tr>\n",
       "  </thead>\n",
       "  <tbody>\n",
       "    <tr>\n",
       "      <th>count</th>\n",
       "      <td>15696.000000</td>\n",
       "      <td>15696.000000</td>\n",
       "      <td>15696.000000</td>\n",
       "      <td>15696.000000</td>\n",
       "      <td>15696.000000</td>\n",
       "      <td>15696.000000</td>\n",
       "      <td>15696.000000</td>\n",
       "      <td>15696.000000</td>\n",
       "      <td>15696.000000</td>\n",
       "      <td>15696.000000</td>\n",
       "      <td>15696.000000</td>\n",
       "    </tr>\n",
       "    <tr>\n",
       "      <th>mean</th>\n",
       "      <td>11.298077</td>\n",
       "      <td>-73.974835</td>\n",
       "      <td>40.750901</td>\n",
       "      <td>-73.973863</td>\n",
       "      <td>40.750901</td>\n",
       "      <td>1.645005</td>\n",
       "      <td>5.170808</td>\n",
       "      <td>16.770387</td>\n",
       "      <td>5.170808</td>\n",
       "      <td>2010.399083</td>\n",
       "      <td>1.962285</td>\n",
       "    </tr>\n",
       "    <tr>\n",
       "      <th>std</th>\n",
       "      <td>9.597119</td>\n",
       "      <td>0.041506</td>\n",
       "      <td>0.037971</td>\n",
       "      <td>0.039350</td>\n",
       "      <td>0.037971</td>\n",
       "      <td>1.262036</td>\n",
       "      <td>2.722191</td>\n",
       "      <td>6.401340</td>\n",
       "      <td>2.722191</td>\n",
       "      <td>1.900288</td>\n",
       "      <td>3.201860</td>\n",
       "    </tr>\n",
       "    <tr>\n",
       "      <th>min</th>\n",
       "      <td>2.500000</td>\n",
       "      <td>-74.438233</td>\n",
       "      <td>39.603178</td>\n",
       "      <td>-74.429332</td>\n",
       "      <td>39.603178</td>\n",
       "      <td>1.000000</td>\n",
       "      <td>1.000000</td>\n",
       "      <td>0.000000</td>\n",
       "      <td>1.000000</td>\n",
       "      <td>2009.000000</td>\n",
       "      <td>0.000000</td>\n",
       "    </tr>\n",
       "    <tr>\n",
       "      <th>25%</th>\n",
       "      <td>6.000000</td>\n",
       "      <td>-73.992394</td>\n",
       "      <td>40.736588</td>\n",
       "      <td>-73.991373</td>\n",
       "      <td>40.736588</td>\n",
       "      <td>1.000000</td>\n",
       "      <td>4.000000</td>\n",
       "      <td>13.000000</td>\n",
       "      <td>4.000000</td>\n",
       "      <td>2009.000000</td>\n",
       "      <td>0.511298</td>\n",
       "    </tr>\n",
       "    <tr>\n",
       "      <th>50%</th>\n",
       "      <td>8.500000</td>\n",
       "      <td>-73.982067</td>\n",
       "      <td>40.753302</td>\n",
       "      <td>-73.980575</td>\n",
       "      <td>40.753302</td>\n",
       "      <td>1.000000</td>\n",
       "      <td>4.000000</td>\n",
       "      <td>20.000000</td>\n",
       "      <td>4.000000</td>\n",
       "      <td>2009.000000</td>\n",
       "      <td>1.075981</td>\n",
       "    </tr>\n",
       "    <tr>\n",
       "      <th>75%</th>\n",
       "      <td>12.500000</td>\n",
       "      <td>-73.968110</td>\n",
       "      <td>40.767801</td>\n",
       "      <td>-73.965460</td>\n",
       "      <td>40.767801</td>\n",
       "      <td>2.000000</td>\n",
       "      <td>6.000000</td>\n",
       "      <td>20.000000</td>\n",
       "      <td>6.000000</td>\n",
       "      <td>2012.000000</td>\n",
       "      <td>2.045075</td>\n",
       "    </tr>\n",
       "    <tr>\n",
       "      <th>max</th>\n",
       "      <td>180.000000</td>\n",
       "      <td>-73.137393</td>\n",
       "      <td>41.366138</td>\n",
       "      <td>-73.137393</td>\n",
       "      <td>41.366138</td>\n",
       "      <td>6.000000</td>\n",
       "      <td>12.000000</td>\n",
       "      <td>23.000000</td>\n",
       "      <td>12.000000</td>\n",
       "      <td>2015.000000</td>\n",
       "      <td>72.064418</td>\n",
       "    </tr>\n",
       "  </tbody>\n",
       "</table>\n",
       "</div>"
      ],
      "text/plain": [
       "        fare_amount  pickup_longitude  pickup_latitude  dropoff_longitude  \\\n",
       "count  15696.000000      15696.000000     15696.000000       15696.000000   \n",
       "mean      11.298077        -73.974835        40.750901         -73.973863   \n",
       "std        9.597119          0.041506         0.037971           0.039350   \n",
       "min        2.500000        -74.438233        39.603178         -74.429332   \n",
       "25%        6.000000        -73.992394        40.736588         -73.991373   \n",
       "50%        8.500000        -73.982067        40.753302         -73.980575   \n",
       "75%       12.500000        -73.968110        40.767801         -73.965460   \n",
       "max      180.000000        -73.137393        41.366138         -73.137393   \n",
       "\n",
       "       dropoff_latitude  passenger_count           day            hr  \\\n",
       "count      15696.000000     15696.000000  15696.000000  15696.000000   \n",
       "mean          40.750901         1.645005      5.170808     16.770387   \n",
       "std            0.037971         1.262036      2.722191      6.401340   \n",
       "min           39.603178         1.000000      1.000000      0.000000   \n",
       "25%           40.736588         1.000000      4.000000     13.000000   \n",
       "50%           40.753302         1.000000      4.000000     20.000000   \n",
       "75%           40.767801         2.000000      6.000000     20.000000   \n",
       "max           41.366138         6.000000     12.000000     23.000000   \n",
       "\n",
       "              month          year      distance  \n",
       "count  15696.000000  15696.000000  15696.000000  \n",
       "mean       5.170808   2010.399083      1.962285  \n",
       "std        2.722191      1.900288      3.201860  \n",
       "min        1.000000   2009.000000      0.000000  \n",
       "25%        4.000000   2009.000000      0.511298  \n",
       "50%        4.000000   2009.000000      1.075981  \n",
       "75%        6.000000   2012.000000      2.045075  \n",
       "max       12.000000   2015.000000     72.064418  "
      ]
     },
     "execution_count": 511,
     "metadata": {},
     "output_type": "execute_result"
    }
   ],
   "source": [
    "train.describe()"
   ]
  },
  {
   "cell_type": "code",
   "execution_count": 512,
   "metadata": {},
   "outputs": [
    {
     "data": {
      "text/html": [
       "<div>\n",
       "<style scoped>\n",
       "    .dataframe tbody tr th:only-of-type {\n",
       "        vertical-align: middle;\n",
       "    }\n",
       "\n",
       "    .dataframe tbody tr th {\n",
       "        vertical-align: top;\n",
       "    }\n",
       "\n",
       "    .dataframe thead th {\n",
       "        text-align: right;\n",
       "    }\n",
       "</style>\n",
       "<table border=\"1\" class=\"dataframe\">\n",
       "  <thead>\n",
       "    <tr style=\"text-align: right;\">\n",
       "      <th></th>\n",
       "      <th>pickup_longitude</th>\n",
       "      <th>pickup_latitude</th>\n",
       "      <th>dropoff_longitude</th>\n",
       "      <th>dropoff_latitude</th>\n",
       "      <th>passenger_count</th>\n",
       "      <th>day</th>\n",
       "      <th>hr</th>\n",
       "      <th>month</th>\n",
       "      <th>year</th>\n",
       "      <th>distance</th>\n",
       "    </tr>\n",
       "  </thead>\n",
       "  <tbody>\n",
       "    <tr>\n",
       "      <th>count</th>\n",
       "      <td>9914.000000</td>\n",
       "      <td>9914.000000</td>\n",
       "      <td>9914.000000</td>\n",
       "      <td>9914.000000</td>\n",
       "      <td>9914.000000</td>\n",
       "      <td>9914.000000</td>\n",
       "      <td>9914.000000</td>\n",
       "      <td>9914.000000</td>\n",
       "      <td>9914.000000</td>\n",
       "      <td>9914.000000</td>\n",
       "    </tr>\n",
       "    <tr>\n",
       "      <th>mean</th>\n",
       "      <td>-73.974722</td>\n",
       "      <td>40.751041</td>\n",
       "      <td>-73.973657</td>\n",
       "      <td>40.751041</td>\n",
       "      <td>1.671273</td>\n",
       "      <td>9.247932</td>\n",
       "      <td>17.675106</td>\n",
       "      <td>9.247932</td>\n",
       "      <td>2011.524612</td>\n",
       "      <td>1.966889</td>\n",
       "    </tr>\n",
       "    <tr>\n",
       "      <th>std</th>\n",
       "      <td>0.042774</td>\n",
       "      <td>0.033541</td>\n",
       "      <td>0.039072</td>\n",
       "      <td>0.033541</td>\n",
       "      <td>1.278747</td>\n",
       "      <td>3.593859</td>\n",
       "      <td>7.321696</td>\n",
       "      <td>3.593859</td>\n",
       "      <td>1.354925</td>\n",
       "      <td>3.090070</td>\n",
       "    </tr>\n",
       "    <tr>\n",
       "      <th>min</th>\n",
       "      <td>-74.252193</td>\n",
       "      <td>40.573143</td>\n",
       "      <td>-74.263242</td>\n",
       "      <td>40.573143</td>\n",
       "      <td>1.000000</td>\n",
       "      <td>1.000000</td>\n",
       "      <td>0.000000</td>\n",
       "      <td>1.000000</td>\n",
       "      <td>2009.000000</td>\n",
       "      <td>0.000000</td>\n",
       "    </tr>\n",
       "    <tr>\n",
       "      <th>25%</th>\n",
       "      <td>-73.992501</td>\n",
       "      <td>40.736125</td>\n",
       "      <td>-73.991247</td>\n",
       "      <td>40.736125</td>\n",
       "      <td>1.000000</td>\n",
       "      <td>6.000000</td>\n",
       "      <td>13.000000</td>\n",
       "      <td>6.000000</td>\n",
       "      <td>2011.000000</td>\n",
       "      <td>0.535192</td>\n",
       "    </tr>\n",
       "    <tr>\n",
       "      <th>50%</th>\n",
       "      <td>-73.982326</td>\n",
       "      <td>40.753051</td>\n",
       "      <td>-73.980015</td>\n",
       "      <td>40.753051</td>\n",
       "      <td>1.000000</td>\n",
       "      <td>12.000000</td>\n",
       "      <td>22.000000</td>\n",
       "      <td>12.000000</td>\n",
       "      <td>2011.000000</td>\n",
       "      <td>1.105076</td>\n",
       "    </tr>\n",
       "    <tr>\n",
       "      <th>75%</th>\n",
       "      <td>-73.968013</td>\n",
       "      <td>40.767113</td>\n",
       "      <td>-73.964059</td>\n",
       "      <td>40.767113</td>\n",
       "      <td>2.000000</td>\n",
       "      <td>12.000000</td>\n",
       "      <td>22.000000</td>\n",
       "      <td>12.000000</td>\n",
       "      <td>2012.000000</td>\n",
       "      <td>2.068584</td>\n",
       "    </tr>\n",
       "    <tr>\n",
       "      <th>max</th>\n",
       "      <td>-72.986532</td>\n",
       "      <td>41.709555</td>\n",
       "      <td>-72.990963</td>\n",
       "      <td>41.709555</td>\n",
       "      <td>6.000000</td>\n",
       "      <td>12.000000</td>\n",
       "      <td>23.000000</td>\n",
       "      <td>12.000000</td>\n",
       "      <td>2015.000000</td>\n",
       "      <td>70.864476</td>\n",
       "    </tr>\n",
       "  </tbody>\n",
       "</table>\n",
       "</div>"
      ],
      "text/plain": [
       "       pickup_longitude  pickup_latitude  dropoff_longitude  dropoff_latitude  \\\n",
       "count       9914.000000      9914.000000        9914.000000       9914.000000   \n",
       "mean         -73.974722        40.751041         -73.973657         40.751041   \n",
       "std            0.042774         0.033541           0.039072          0.033541   \n",
       "min          -74.252193        40.573143         -74.263242         40.573143   \n",
       "25%          -73.992501        40.736125         -73.991247         40.736125   \n",
       "50%          -73.982326        40.753051         -73.980015         40.753051   \n",
       "75%          -73.968013        40.767113         -73.964059         40.767113   \n",
       "max          -72.986532        41.709555         -72.990963         41.709555   \n",
       "\n",
       "       passenger_count          day           hr        month         year  \\\n",
       "count      9914.000000  9914.000000  9914.000000  9914.000000  9914.000000   \n",
       "mean          1.671273     9.247932    17.675106     9.247932  2011.524612   \n",
       "std           1.278747     3.593859     7.321696     3.593859     1.354925   \n",
       "min           1.000000     1.000000     0.000000     1.000000  2009.000000   \n",
       "25%           1.000000     6.000000    13.000000     6.000000  2011.000000   \n",
       "50%           1.000000    12.000000    22.000000    12.000000  2011.000000   \n",
       "75%           2.000000    12.000000    22.000000    12.000000  2012.000000   \n",
       "max           6.000000    12.000000    23.000000    12.000000  2015.000000   \n",
       "\n",
       "          distance  \n",
       "count  9914.000000  \n",
       "mean      1.966889  \n",
       "std       3.090070  \n",
       "min       0.000000  \n",
       "25%       0.535192  \n",
       "50%       1.105076  \n",
       "75%       2.068584  \n",
       "max      70.864476  "
      ]
     },
     "execution_count": 512,
     "metadata": {},
     "output_type": "execute_result"
    }
   ],
   "source": [
    "test.describe()"
   ]
  },
  {
   "cell_type": "code",
   "execution_count": 513,
   "metadata": {},
   "outputs": [
    {
     "name": "stderr",
     "output_type": "stream",
     "text": [
      "/anaconda3/lib/python3.7/site-packages/ipykernel_launcher.py:4: RuntimeWarning: divide by zero encountered in log\n",
      "  after removing the cwd from sys.path.\n",
      "/anaconda3/lib/python3.7/site-packages/scipy/stats/stats.py:1713: FutureWarning: Using a non-tuple sequence for multidimensional indexing is deprecated; use `arr[tuple(seq)]` instead of `arr[seq]`. In the future this will be interpreted as an array index, `arr[np.array(seq)]`, which will result either in an error or a different result.\n",
      "  return np.add.reduce(sorted[indexer] * weights, axis=axis) / sumval\n"
     ]
    },
    {
     "data": {
      "text/plain": [
       "Text(0.5, 1.0, 'Distribution of Trip Fare')"
      ]
     },
     "execution_count": 513,
     "metadata": {},
     "output_type": "execute_result"
    },
    {
     "data": {
      "image/png": "[encoded data removed]",
      "text/plain": [
       "<Figure size 576x360 with 1 Axes>"
      ]
     },
     "metadata": {
      "needs_background": "light"
     },
     "output_type": "display_data"
    }
   ],
   "source": [
    "'''Exploratory data analyis  the major variables are fare_amount , distance , passenger count '''\n",
    "\n",
    "plt.figure(figsize=(8,5))\n",
    "sns.kdeplot(np.log(train['distance'].values)).set_title(\"Distribution of Trip Fare\")"
   ]
  },
  {
   "cell_type": "code",
   "execution_count": 514,
   "metadata": {},
   "outputs": [
    {
     "data": {
      "text/plain": [
       "(-74.03, -73.75)"
      ]
     },
     "execution_count": 514,
     "metadata": {},
     "output_type": "execute_result"
    },
    {
     "data": {
      "image/png": "[encoded data removed]",
      "text/plain": [
       "<Figure size 432x288 with 1 Axes>"
      ]
     },
     "metadata": {
      "needs_background": "light"
     },
     "output_type": "display_data"
    }
   ],
   "source": [
    "city_long_border = (-74.03, -73.75)\n",
    "city_lat_border = (40.63, 40.85)\n",
    "\n",
    "train.plot(kind='scatter', x='dropoff_longitude', y='dropoff_latitude',\n",
    "                color='green', \n",
    "                s=1.5, alpha=.6)\n",
    "plt.title(\"Dropoffs\")\n",
    "plt.ylim(city_lat_border)\n",
    "plt.xlim(city_long_border)"
   ]
  },
  {
   "cell_type": "code",
   "execution_count": 515,
   "metadata": {},
   "outputs": [
    {
     "data": {
      "text/plain": [
       "(-74.03, -73.75)"
      ]
     },
     "execution_count": 515,
     "metadata": {},
     "output_type": "execute_result"
    },
    {
     "data": {
      "image/png": "[encoded data removed]",
      "text/plain": [
       "<Figure size 432x288 with 1 Axes>"
      ]
     },
     "metadata": {
      "needs_background": "light"
     },
     "output_type": "display_data"
    }
   ],
   "source": [
    "train.plot(kind='scatter', x='pickup_longitude', y='pickup_latitude',\n",
    "                color='blue', \n",
    "                s=1.5, alpha=.6)\n",
    "plt.title(\"Pickups\")\n",
    "\n",
    "plt.ylim(city_lat_border)\n",
    "plt.xlim(city_long_border)"
   ]
  },
  {
   "cell_type": "code",
   "execution_count": 516,
   "metadata": {},
   "outputs": [
    {
     "name": "stderr",
     "output_type": "stream",
     "text": [
      "/anaconda3/lib/python3.7/site-packages/ipykernel_launcher.py:2: RuntimeWarning: divide by zero encountered in log\n",
      "  \n"
     ]
    },
    {
     "data": {
      "text/plain": [
       "Text(0.5, 1.0, 'Distribution of Trip Distance (log scale)')"
      ]
     },
     "execution_count": 516,
     "metadata": {},
     "output_type": "execute_result"
    },
    {
     "data": {
      "image/png": "[encoded data removed]",
      "text/plain": [
       "<Figure size 432x288 with 1 Axes>"
      ]
     },
     "metadata": {
      "needs_background": "light"
     },
     "output_type": "display_data"
    }
   ],
   "source": [
    "#scaling of the distance is good it is normally distributed\n",
    "sns.kdeplot(np.log(train['distance'].values)).set_title(\"Distribution of Trip Distance (log scale)\")"
   ]
  },
  {
   "cell_type": "code",
   "execution_count": 517,
   "metadata": {},
   "outputs": [
    {
     "data": {
      "text/plain": [
       "<matplotlib.axes._subplots.AxesSubplot at 0x1c430d6ba8>"
      ]
     },
     "execution_count": 517,
     "metadata": {},
     "output_type": "execute_result"
    },
    {
     "data": {
      "image/png": "[encoded data removed]",
      "text/plain": [
       "<Figure size 432x288 with 1 Axes>"
      ]
     },
     "metadata": {
      "needs_background": "light"
     },
     "output_type": "display_data"
    }
   ],
   "source": [
    "trips_year=train.groupby(['year'])['pickup_datetime'].count().reset_index().rename(columns={'pickup_datetime':'Num_Trips'})\n",
    "trips_year.head()\n",
    "sns.barplot(x='year',y='Num_Trips',data=trips_year)"
   ]
  },
  {
   "cell_type": "code",
   "execution_count": 518,
   "metadata": {},
   "outputs": [
    {
     "data": {
      "text/plain": [
       "Text(0.5, 1.0, 'Avg Fare Amount over Years')"
      ]
     },
     "execution_count": 518,
     "metadata": {},
     "output_type": "execute_result"
    },
    {
     "data": {
      "image/png": "[encoded data removed]",
      "text/plain": [
       "<Figure size 432x288 with 1 Axes>"
      ]
     },
     "metadata": {
      "needs_background": "light"
     },
     "output_type": "display_data"
    }
   ],
   "source": [
    "trips_year_fareamount=train.groupby(['year'])['fare_amount'].mean().reset_index().rename(columns={'fare_amount':'avg_fare_amount'})\n",
    "sns.barplot(x='year',y='avg_fare_amount',data=trips_year_fareamount).set_title(\"Avg Fare Amount over Years\")"
   ]
  },
  {
   "cell_type": "code",
   "execution_count": 519,
   "metadata": {},
   "outputs": [
    {
     "data": {
      "text/plain": [
       "Text(0, 0.5, 'Count')"
      ]
     },
     "execution_count": 519,
     "metadata": {},
     "output_type": "execute_result"
    },
    {
     "data": {
      "image/png": "[encoded data removed]",
      "text/plain": [
       "<Figure size 432x288 with 1 Axes>"
      ]
     },
     "metadata": {
      "needs_background": "light"
     },
     "output_type": "display_data"
    }
   ],
   "source": [
    "train['passenger_count'].value_counts().plot.bar(color = 'b', edgecolor = 'k')\n",
    "plt.title('Histogram of passenger counts')\n",
    "plt.xlabel('Passenger counts')\n",
    "plt.ylabel('Count')\n",
    "\n",
    "#"
   ]
  },
  {
   "cell_type": "code",
   "execution_count": 520,
   "metadata": {},
   "outputs": [
    {
     "data": {
      "text/plain": [
       "Text(0.5, 1.0, 'Avg  trip rate on weekly basis')"
      ]
     },
     "execution_count": 520,
     "metadata": {},
     "output_type": "execute_result"
    },
    {
     "data": {
      "image/png": "[encoded data removed]",
      "text/plain": [
       "<Figure size 432x288 with 1 Axes>"
      ]
     },
     "metadata": {
      "needs_background": "light"
     },
     "output_type": "display_data"
    }
   ],
   "source": [
    "trips_day_fareamount=train.groupby(['day_week'])['pickup_datetime'].count().reset_index().rename(columns={'pickup_datetime':'avg_trip_rate'})\n",
    "sns.barplot(x='day_week',y='avg_trip_rate',data=trips_day_fareamount).set_title(\"Avg  trip rate on weekly basis\")"
   ]
  },
  {
   "cell_type": "code",
   "execution_count": 521,
   "metadata": {},
   "outputs": [
    {
     "data": {
      "text/plain": [
       "Text(0.5, 1.0, 'Avg trips over month')"
      ]
     },
     "execution_count": 521,
     "metadata": {},
     "output_type": "execute_result"
    },
    {
     "data": {
      "image/png": "[encoded data removed]",
      "text/plain": [
       "<Figure size 432x288 with 1 Axes>"
      ]
     },
     "metadata": {
      "needs_background": "light"
     },
     "output_type": "display_data"
    }
   ],
   "source": [
    "trips_month_fareamount=train.groupby(['month'])['pickup_datetime'].count().reset_index().rename(columns={'pickup_datetime':'avg_trip_rate'})\n",
    "sns.barplot(x='month',y='avg_trip_rate',data=trips_month_fareamount).set_title(\"Avg trips over month\")"
   ]
  },
  {
   "cell_type": "code",
   "execution_count": 522,
   "metadata": {},
   "outputs": [
    {
     "data": {
      "text/plain": [
       "Text(0.5, 1.0, 'Avg Fare Amount over month')"
      ]
     },
     "execution_count": 522,
     "metadata": {},
     "output_type": "execute_result"
    },
    {
     "data": {
      "image/png": "[encoded data removed]",
      "text/plain": [
       "<Figure size 432x288 with 1 Axes>"
      ]
     },
     "metadata": {
      "needs_background": "light"
     },
     "output_type": "display_data"
    }
   ],
   "source": [
    "trips_month_fareamount=train.groupby(['month'])['fare_amount'].mean().reset_index().rename(columns={'fare_amount':'avg_fare_amount'})\n",
    "sns.barplot(x='month',y='avg_fare_amount',data=trips_month_fareamount).set_title(\"Avg Fare Amount over month\")"
   ]
  },
  {
   "cell_type": "code",
   "execution_count": 523,
   "metadata": {},
   "outputs": [
    {
     "data": {
      "text/plain": [
       "passenger_count\n",
       "1    11119\n",
       "2     2279\n",
       "3      661\n",
       "4      319\n",
       "5     1024\n",
       "6      294\n",
       "dtype: int64"
      ]
     },
     "execution_count": 523,
     "metadata": {},
     "output_type": "execute_result"
    }
   ],
   "source": [
    "train.groupby('passenger_count').size()"
   ]
  },
  {
   "cell_type": "code",
   "execution_count": 524,
   "metadata": {},
   "outputs": [
    {
     "data": {
      "text/plain": [
       "Text(0.5, 1.0, 'trips_passenger_count')"
      ]
     },
     "execution_count": 524,
     "metadata": {},
     "output_type": "execute_result"
    },
    {
     "data": {
      "image/png": "[encoded data removed]",
      "text/plain": [
       "<Figure size 432x288 with 1 Axes>"
      ]
     },
     "metadata": {
      "needs_background": "light"
     },
     "output_type": "display_data"
    }
   ],
   "source": [
    "trips_passenger_count=train.groupby(['passenger_count'])['pickup_datetime'].count().reset_index().rename(columns={'pickup_datetime':'avg_trip_rate'})\n",
    "sns.barplot(x='passenger_count',y='avg_trip_rate',data=trips_passenger_count).set_title(\"trips_passenger_count\")"
   ]
  },
  {
   "cell_type": "code",
   "execution_count": 525,
   "metadata": {},
   "outputs": [
    {
     "data": {
      "text/plain": [
       "day_week\n",
       "Friday       1170\n",
       "Monday        990\n",
       "Saturday     9066\n",
       "Sunday       1225\n",
       "Thursday     1139\n",
       "Tuesday      1024\n",
       "Wednesday    1082\n",
       "dtype: int64"
      ]
     },
     "execution_count": 525,
     "metadata": {},
     "output_type": "execute_result"
    }
   ],
   "source": [
    "train.groupby('day_week').size()"
   ]
  },
  {
   "cell_type": "code",
   "execution_count": 526,
   "metadata": {},
   "outputs": [
    {
     "data": {
      "text/plain": [
       "(15696, 14)"
      ]
     },
     "execution_count": 526,
     "metadata": {},
     "output_type": "execute_result"
    }
   ],
   "source": [
    "\n",
    "train['day_week'] = train['day_week'].replace(['Monday','Tuesday','Wednesday','Thursday','Friday','Saturday','Sunday'],[1,2,3,4,5,6,7])\n",
    "\n",
    "test['day_week'] = test['day_week'].replace(['Monday','Tuesday','Wednesday','Thursday','Friday','Saturday','Sunday'],[1,2,3,4,5,6,7])\n",
    "\n",
    "train.shape"
   ]
  },
  {
   "cell_type": "code",
   "execution_count": 527,
   "metadata": {},
   "outputs": [
    {
     "data": {
      "text/plain": [
       "<matplotlib.axes._subplots.AxesSubplot at 0x1c3ca9e860>"
      ]
     },
     "execution_count": 527,
     "metadata": {},
     "output_type": "execute_result"
    },
    {
     "data": {
      "image/png": "[encoded data removed]",
      "text/plain": [
       "<Figure size 504x360 with 2 Axes>"
      ]
     },
     "metadata": {
      "needs_background": "light"
     },
     "output_type": "display_data"
    }
   ],
   "source": [
    "\n",
    "df_corr= train.drop(columns=['fare_amount'])\n",
    "f, ax = plt.subplots(figsize=(7, 5))\n",
    "\n",
    "#Generate correlation matrix\n",
    "corr = df_corr.corr()\n",
    "\n",
    "#Plot using seaborn library\n",
    "sns.heatmap(corr, mask=np.zeros_like(corr, dtype=np.bool), cmap=sns.diverging_palette(220, 10, as_cmap=True),\n",
    "            square=True, ax=ax)\n"
   ]
  },
  {
   "cell_type": "code",
   "execution_count": 528,
   "metadata": {},
   "outputs": [],
   "source": [
    "\n",
    "train=train.drop('date',axis=1)\n",
    "test=test.drop('date',axis=1)\n",
    "\n",
    "\n"
   ]
  },
  {
   "cell_type": "code",
   "execution_count": 529,
   "metadata": {},
   "outputs": [],
   "source": [
    "\n",
    "train=train.drop('pickup_datetime',axis=1)\n",
    "test=test.drop('pickup_datetime',axis=1)\n",
    "\n"
   ]
  },
  {
   "cell_type": "code",
   "execution_count": 530,
   "metadata": {},
   "outputs": [],
   "source": [
    "###################################BUILDING MODEL TO PREDICT FARE ####################################################"
   ]
  },
  {
   "cell_type": "code",
   "execution_count": 531,
   "metadata": {},
   "outputs": [
    {
     "name": "stdout",
     "output_type": "stream",
     "text": [
      "(15696, 12)\n",
      "(9914, 11)\n"
     ]
    },
    {
     "data": {
      "text/html": [
       "<div>\n",
       "<style scoped>\n",
       "    .dataframe tbody tr th:only-of-type {\n",
       "        vertical-align: middle;\n",
       "    }\n",
       "\n",
       "    .dataframe tbody tr th {\n",
       "        vertical-align: top;\n",
       "    }\n",
       "\n",
       "    .dataframe thead th {\n",
       "        text-align: right;\n",
       "    }\n",
       "</style>\n",
       "<table border=\"1\" class=\"dataframe\">\n",
       "  <thead>\n",
       "    <tr style=\"text-align: right;\">\n",
       "      <th></th>\n",
       "      <th>fare_amount</th>\n",
       "      <th>pickup_longitude</th>\n",
       "      <th>pickup_latitude</th>\n",
       "      <th>dropoff_longitude</th>\n",
       "      <th>dropoff_latitude</th>\n",
       "      <th>passenger_count</th>\n",
       "      <th>day_week</th>\n",
       "      <th>day</th>\n",
       "      <th>hr</th>\n",
       "      <th>month</th>\n",
       "      <th>year</th>\n",
       "      <th>distance</th>\n",
       "    </tr>\n",
       "  </thead>\n",
       "  <tbody>\n",
       "    <tr>\n",
       "      <th>0</th>\n",
       "      <td>4.5</td>\n",
       "      <td>-73.844311</td>\n",
       "      <td>40.721319</td>\n",
       "      <td>-73.841610</td>\n",
       "      <td>40.721319</td>\n",
       "      <td>1</td>\n",
       "      <td>6</td>\n",
       "      <td>4</td>\n",
       "      <td>20</td>\n",
       "      <td>4</td>\n",
       "      <td>2009</td>\n",
       "      <td>0.227623</td>\n",
       "    </tr>\n",
       "    <tr>\n",
       "      <th>1</th>\n",
       "      <td>16.9</td>\n",
       "      <td>-74.016048</td>\n",
       "      <td>40.711303</td>\n",
       "      <td>-73.979268</td>\n",
       "      <td>40.711303</td>\n",
       "      <td>1</td>\n",
       "      <td>6</td>\n",
       "      <td>4</td>\n",
       "      <td>20</td>\n",
       "      <td>4</td>\n",
       "      <td>2009</td>\n",
       "      <td>3.100053</td>\n",
       "    </tr>\n",
       "    <tr>\n",
       "      <th>2</th>\n",
       "      <td>5.7</td>\n",
       "      <td>-73.982738</td>\n",
       "      <td>40.761270</td>\n",
       "      <td>-73.991242</td>\n",
       "      <td>40.761270</td>\n",
       "      <td>2</td>\n",
       "      <td>4</td>\n",
       "      <td>8</td>\n",
       "      <td>0</td>\n",
       "      <td>8</td>\n",
       "      <td>2011</td>\n",
       "      <td>0.716233</td>\n",
       "    </tr>\n",
       "    <tr>\n",
       "      <th>3</th>\n",
       "      <td>7.7</td>\n",
       "      <td>-73.987130</td>\n",
       "      <td>40.733143</td>\n",
       "      <td>-73.991567</td>\n",
       "      <td>40.733143</td>\n",
       "      <td>1</td>\n",
       "      <td>6</td>\n",
       "      <td>4</td>\n",
       "      <td>20</td>\n",
       "      <td>4</td>\n",
       "      <td>2009</td>\n",
       "      <td>0.373856</td>\n",
       "    </tr>\n",
       "    <tr>\n",
       "      <th>4</th>\n",
       "      <td>5.3</td>\n",
       "      <td>-73.968095</td>\n",
       "      <td>40.768008</td>\n",
       "      <td>-73.956655</td>\n",
       "      <td>40.768008</td>\n",
       "      <td>1</td>\n",
       "      <td>6</td>\n",
       "      <td>4</td>\n",
       "      <td>20</td>\n",
       "      <td>4</td>\n",
       "      <td>2009</td>\n",
       "      <td>0.963415</td>\n",
       "    </tr>\n",
       "  </tbody>\n",
       "</table>\n",
       "</div>"
      ],
      "text/plain": [
       "   fare_amount  pickup_longitude  pickup_latitude  dropoff_longitude  \\\n",
       "0          4.5        -73.844311        40.721319         -73.841610   \n",
       "1         16.9        -74.016048        40.711303         -73.979268   \n",
       "2          5.7        -73.982738        40.761270         -73.991242   \n",
       "3          7.7        -73.987130        40.733143         -73.991567   \n",
       "4          5.3        -73.968095        40.768008         -73.956655   \n",
       "\n",
       "   dropoff_latitude  passenger_count  day_week  day  hr  month  year  distance  \n",
       "0         40.721319                1         6    4  20      4  2009  0.227623  \n",
       "1         40.711303                1         6    4  20      4  2009  3.100053  \n",
       "2         40.761270                2         4    8   0      8  2011  0.716233  \n",
       "3         40.733143                1         6    4  20      4  2009  0.373856  \n",
       "4         40.768008                1         6    4  20      4  2009  0.963415  "
      ]
     },
     "execution_count": 531,
     "metadata": {},
     "output_type": "execute_result"
    }
   ],
   "source": [
    "print(train.shape)\n",
    "print(test.shape)\n",
    "train.head()"
   ]
  },
  {
   "cell_type": "code",
   "execution_count": 532,
   "metadata": {},
   "outputs": [
    {
     "name": "stdout",
     "output_type": "stream",
     "text": [
      "Rate = $5.758/km\n",
      "Train :RMSE for fare rate is = 8.6\n",
      "Train :MAPE for fare rate is = 49.513\n"
     ]
    }
   ],
   "source": [
    "def distance_fare(df):\n",
    "    df=df.drop(train[(train['H_Distance']==0)&(train['fare_amount']==0)].index, axis = 0)\n",
    "    return df\n",
    "\n",
    "def compute_rmse(actual, predicted):\n",
    "    return np.sqrt(np.mean((actual - predicted)**2))\n",
    "\n",
    "\n",
    "def MAPE(y_true, y_pred): \n",
    "    mape = np.mean(np.abs((y_true - y_pred) / y_true))*100\n",
    "    return mape\n",
    "\n",
    "def farerate_rmse(df, rate, name):\n",
    "    print(name,\":RMSE for fare rate is =\",round(compute_rmse(df['fare_amount'],train['distance']*1.76+2.5),3))\n",
    "    \n",
    "    \n",
    "def mean_squared_error(actual, predicted):\n",
    "    return (np.mean((actual - predicted)**2))\n",
    "    \n",
    "    \n",
    "rate = round(train['fare_amount'].mean() / train['distance'].mean(),3)\n",
    "\n",
    "#fare = train['distance']*1.76+2.5\n",
    "    \n",
    "print(\"Rate = ${0}/km\".format(rate))\n",
    "\n",
    "farerate_rmse(train, rate, 'Train')\n",
    "\n",
    "print(\"Train :MAPE for fare rate is =\",round(MAPE(train['fare_amount'],rate * train['distance']),3))\n",
    "error_table=pd.DataFrame(index=['MAPE','MSE','RMSE'])\n",
    "\n",
    "error_table['ManualCalculation']=[round(MAPE(train['fare_amount'],train['distance']*1.76+2.5),3),mean_squared_error(train['fare_amount'], rate * train['distance']),compute_rmse(train['fare_amount'],rate * train['distance'] )]"
   ]
  },
  {
   "cell_type": "code",
   "execution_count": 533,
   "metadata": {},
   "outputs": [
    {
     "name": "stdout",
     "output_type": "stream",
     "text": [
      "Test  MAPE after applying  Linear Regression : 39.183\n",
      "Test  MSE after applying Linear Regression : 37.790\n",
      "Test RMSE after applying Linear Regression  : 6.147\n"
     ]
    }
   ],
   "source": [
    "###################################LINEAR REGRESSION #################################################################\n",
    "from sklearn.linear_model import LinearRegression\n",
    "\n",
    "Y =train['fare_amount']\n",
    "X = train.drop(columns=['fare_amount'])\n",
    "\n",
    "X1_train, X1_test, Y1_train, Y1_test = train_test_split(X, Y, test_size=0.3, random_state=40)\n",
    "\n",
    "lr = LinearRegression().fit(X1_train, Y1_train)\n",
    "predictions_LR = lr.predict(X1_test)\n",
    "\n",
    "\n",
    "print(\"Test  MAPE after applying  Linear Regression : %.3f\" % MAPE(Y1_test, predictions_LR))\n",
    "print(\"Test  MSE after applying Linear Regression : %.3f\" %  mean_squared_error(Y1_test, predictions_LR))\n",
    "print(\"Test RMSE after applying Linear Regression  : %.3f\" % compute_rmse(Y1_test, predictions_LR))\n",
    "\n",
    "error_table['LR']=[MAPE(Y1_test, predictions_LR),mean_squared_error(Y1_test, predictions_LR),compute_rmse(Y1_test, predictions_LR)]"
   ]
  },
  {
   "cell_type": "code",
   "execution_count": 534,
   "metadata": {},
   "outputs": [
    {
     "name": "stdout",
     "output_type": "stream",
     "text": [
      "Test  MAPE after applying  Decision Regression : 38.224\n",
      "Test  MSE after applying Decision Regression : 31.058\n",
      "Test RMSE after applying Decision Regression  : 5.573\n"
     ]
    }
   ],
   "source": [
    "################################### DECISION TREE REGERESSION ########################################################\n",
    "\n",
    "from sklearn.tree import DecisionTreeRegressor\n",
    "\n",
    "X2_train, X2_test, Y2_train, Y2_test = train_test_split(X, Y, test_size=0.3, random_state=40)\n",
    "\n",
    "fit_DT = DecisionTreeRegressor(max_depth=2).fit(X2_train,Y2_train)\n",
    "predictions_DT = fit_DT.predict( X2_test)\n",
    "\n",
    "print(\"Test  MAPE after applying  Decision Regression : %.3f\" % MAPE(Y2_test, predictions_DT))\n",
    "print(\"Test  MSE after applying Decision Regression : %.3f\" %  mean_squared_error(Y2_test, predictions_DT))\n",
    "print(\"Test RMSE after applying Decision Regression  : %.3f\" % compute_rmse(Y2_test, predictions_DT))\n",
    "\n",
    "error_table['DecisionTree']=[MAPE(Y2_test, predictions_DT),mean_squared_error(Y2_test, predictions_DT),compute_rmse(Y2_test, predictions_DT)]"
   ]
  },
  {
   "cell_type": "code",
   "execution_count": 535,
   "metadata": {},
   "outputs": [
    {
     "name": "stdout",
     "output_type": "stream",
     "text": [
      "Test  MAPE after applying  Random Forest 38.269\n",
      "Test  MSE after applying  Random Forest 30.106\n",
      "Test RMSE after applying  Random Forest  : 5.487\n"
     ]
    }
   ],
   "source": [
    "################################# RANDOM FOREST ######################################################################\n",
    "from sklearn.ensemble import RandomForestRegressor\n",
    "\n",
    "X3_train, X3_test, Y3_train, Y3_test = train_test_split(X, Y, test_size=0.3, random_state=40)\n",
    "\n",
    "\n",
    "rf = RandomForestRegressor(max_depth=2, random_state=0, n_estimators=100).fit(X3_train, Y3_train)\n",
    "predictions_RF = rf.predict(X3_test)\n",
    "\n",
    "print(\"Test  MAPE after applying  Random Forest %.3f\" % MAPE(Y3_test, predictions_RF))\n",
    "print(\"Test  MSE after applying  Random Forest %.3f\" %  mean_squared_error(Y3_test, predictions_RF))\n",
    "print(\"Test RMSE after applying  Random Forest  : %.3f\" % compute_rmse(Y3_test, predictions_RF))\n",
    "\n",
    "error_table['RandomForest']=[MAPE(Y3_test, predictions_RF),mean_squared_error(Y3_test, predictions_RF),compute_rmse(Y3_test, predictions_RF)]"
   ]
  },
  {
   "cell_type": "code",
   "execution_count": 536,
   "metadata": {},
   "outputs": [
    {
     "name": "stdout",
     "output_type": "stream",
     "text": [
      "Test  MAPE after applying  OLS 39.183\n",
      "Test  MSE after applying  OLS 37.790\n",
      "Test RMSE after applying  OLS  : 6.147\n",
      "                            OLS Regression Results                            \n",
      "==============================================================================\n",
      "Dep. Variable:            fare_amount   R-squared:                       0.801\n",
      "Model:                            OLS   Adj. R-squared:                  0.800\n",
      "Method:                 Least Squares   F-statistic:                     4896.\n",
      "Date:                Wed, 26 Jun 2019   Prob (F-statistic):               0.00\n",
      "Time:                        08:20:12   Log-Likelihood:                -36387.\n",
      "No. Observations:               10987   AIC:                         7.279e+04\n",
      "Df Residuals:                   10978   BIC:                         7.286e+04\n",
      "Df Model:                           9                                         \n",
      "Covariance Type:            nonrobust                                         \n",
      "=====================================================================================\n",
      "                        coef    std err          t      P>|t|      [0.025      0.975]\n",
      "-------------------------------------------------------------------------------------\n",
      "pickup_longitude    -20.3507      1.547    -13.156      0.000     -23.383     -17.318\n",
      "pickup_latitude     -16.4021      0.739    -22.182      0.000     -17.851     -14.953\n",
      "dropoff_longitude    10.8310      1.565      6.919      0.000       7.762      13.900\n",
      "dropoff_latitude    -16.4021      0.739    -22.182      0.000     -17.851     -14.953\n",
      "passenger_count       0.0463      0.051      0.916      0.360      -0.053       0.145\n",
      "day_week              0.2238      0.041      5.430      0.000       0.143       0.305\n",
      "day                   0.0204      0.012      1.661      0.097      -0.004       0.045\n",
      "hr                    0.0293      0.011      2.741      0.006       0.008       0.050\n",
      "month                 0.0204      0.012      1.661      0.097      -0.004       0.045\n",
      "year                  0.3172      0.036      8.732      0.000       0.246       0.388\n",
      "distance              2.2197      0.021    105.487      0.000       2.178       2.261\n",
      "==============================================================================\n",
      "Omnibus:                     7452.653   Durbin-Watson:                   1.997\n",
      "Prob(Omnibus):                  0.000   Jarque-Bera (JB):         10570372.917\n",
      "Skew:                           1.762   Prob(JB):                         0.00\n",
      "Kurtosis:                     154.913   Cond. No.                     1.07e+20\n",
      "==============================================================================\n",
      "\n",
      "Warnings:\n",
      "[1] Standard Errors assume that the covariance matrix of the errors is correctly specified.\n",
      "[2] The smallest eigenvalue is 3.93e-30. This might indicate that there are\n",
      "strong multicollinearity problems or that the design matrix is singular.\n"
     ]
    }
   ],
   "source": [
    "################################ OLS MODEL IN LINEAR REGRESSION #####################################################\n",
    "import statsmodels.api as sm\n",
    "\n",
    "X4_train, X4_test, Y4_train, Y4_test = train_test_split(X, Y, test_size=0.3, random_state=40)\n",
    "\n",
    "model = sm.OLS(Y4_train,X4_train).fit()\n",
    "\n",
    "# make the predictions by the model\n",
    "predictions_OLS = model.predict(X4_test)\n",
    "\n",
    "print(\"Test  MAPE after applying  OLS %.3f\" % MAPE(Y4_test, predictions_LR))\n",
    "print(\"Test  MSE after applying  OLS %.3f\" %  mean_squared_error(Y4_test, predictions_LR))\n",
    "print(\"Test RMSE after applying  OLS  : %.3f\" % compute_rmse(Y4_test, predictions_LR))\n",
    "\n",
    "# Print out the statistics\n",
    "print(model.summary())\n",
    "\n",
    "error_table['OLS']=[MAPE(Y4_test, predictions_OLS),mean_squared_error(Y4_test, predictions_OLS),compute_rmse(Y4_test, predictions_OLS )]"
   ]
  },
  {
   "cell_type": "code",
   "execution_count": 537,
   "metadata": {},
   "outputs": [
    {
     "data": {
      "text/html": [
       "<div>\n",
       "<style scoped>\n",
       "    .dataframe tbody tr th:only-of-type {\n",
       "        vertical-align: middle;\n",
       "    }\n",
       "\n",
       "    .dataframe tbody tr th {\n",
       "        vertical-align: top;\n",
       "    }\n",
       "\n",
       "    .dataframe thead th {\n",
       "        text-align: right;\n",
       "    }\n",
       "</style>\n",
       "<table border=\"1\" class=\"dataframe\">\n",
       "  <thead>\n",
       "    <tr style=\"text-align: right;\">\n",
       "      <th></th>\n",
       "      <th>ManualCalculation</th>\n",
       "      <th>LR</th>\n",
       "      <th>DecisionTree</th>\n",
       "      <th>RandomForest</th>\n",
       "      <th>OLS</th>\n",
       "    </tr>\n",
       "  </thead>\n",
       "  <tbody>\n",
       "    <tr>\n",
       "      <th>MAPE</th>\n",
       "      <td>44.169000</td>\n",
       "      <td>39.182607</td>\n",
       "      <td>38.223983</td>\n",
       "      <td>38.268799</td>\n",
       "      <td>39.142989</td>\n",
       "    </tr>\n",
       "    <tr>\n",
       "      <th>MSE</th>\n",
       "      <td>175.325563</td>\n",
       "      <td>37.790028</td>\n",
       "      <td>31.057557</td>\n",
       "      <td>30.106247</td>\n",
       "      <td>38.030192</td>\n",
       "    </tr>\n",
       "    <tr>\n",
       "      <th>RMSE</th>\n",
       "      <td>13.241056</td>\n",
       "      <td>6.147359</td>\n",
       "      <td>5.572931</td>\n",
       "      <td>5.486916</td>\n",
       "      <td>6.166862</td>\n",
       "    </tr>\n",
       "  </tbody>\n",
       "</table>\n",
       "</div>"
      ],
      "text/plain": [
       "      ManualCalculation         LR  DecisionTree  RandomForest        OLS\n",
       "MAPE          44.169000  39.182607     38.223983     38.268799  39.142989\n",
       "MSE          175.325563  37.790028     31.057557     30.106247  38.030192\n",
       "RMSE          13.241056   6.147359      5.572931      5.486916   6.166862"
      ]
     },
     "execution_count": 537,
     "metadata": {},
     "output_type": "execute_result"
    }
   ],
   "source": [
    "error_table"
   ]
  },
  {
   "cell_type": "code",
   "execution_count": 538,
   "metadata": {},
   "outputs": [],
   "source": [
    "'''based on the analysis we can fix random forest as the accurate model as the error rate is less'''\n",
    "\n",
    "########################### PREDICTING THE FARE  AMOUNT of TEST DATE ################################################\n",
    "\n",
    "test['fare_amount']=np.round(rf.predict(test),3)\n",
    "\n",
    "\n"
   ]
  },
  {
   "cell_type": "code",
   "execution_count": 539,
   "metadata": {},
   "outputs": [],
   "source": [
    "\n",
    "test.to_csv(\"test_output.csv\",index=False)"
   ]
  },
  {
   "cell_type": "code",
   "execution_count": 540,
   "metadata": {},
   "outputs": [
    {
     "data": {
      "text/plain": [
       "count    9914.000000\n",
       "mean       11.330610\n",
       "std         7.524217\n",
       "min         8.263000\n",
       "25%         8.263000\n",
       "50%         8.263000\n",
       "75%        13.563000\n",
       "max        51.010000\n",
       "Name: fare_amount, dtype: float64"
      ]
     },
     "execution_count": 540,
     "metadata": {},
     "output_type": "execute_result"
    }
   ],
   "source": [
    "test['fare_amount'].describe()"
   ]
  },
  {
   "cell_type": "code",
   "execution_count": null,
   "metadata": {},
   "outputs": [],
   "source": [
    "#function to find the location details\n",
    "    \n",
    "    #calculate the month , day , year , weekday or weekend\n",
    "    \n",
    "    #df['pickup_datetime']=df.apply(lambda row: df['pickup_datetime'].mode() if (r.match('2009-06-15 17:26:21 UTC')) else row['pickup_datetime'],axis=1)\n",
    "    #df['date']=df['pickup_datetime'].str.rsplit(\" \", n=2, expand=True)[0]\n",
    "    #df['time']=df['pickup_datetime'].str.rsplit(\" \", n=2, expand=True)[1]\n",
    "    #df['year']=df['date'].str.rsplit(\"-\", n=3, expand=True)[0]\n",
    "    #df['month']=pd.to_numeric(df['date'].str.rsplit(\"-\", n=3, expand=True)[1])\n",
    "    #df['day']=pd.to_numeric(df['date'].str.rsplit(\"-\", n=3, expand=True)[2])\n",
    "    #df['hr']=pd.to_numeric(df['time'].str.rsplit(\":\", n=2, expand=True)[0])\n",
    "    \n",
    "    #df['pickup_datetime']=pd.to_datetime(df['pickup_datetime'],format='%Y-%m-%d %H:%M:%S UTC')\n",
    "    #df['day_week']=df['pickup_datetime'].apply(lambda x:calendar.day_name[x.weekday()])\n",
    "    \n",
    "    \n",
    "    \n",
    "    #function to validate and current the month,hr,day and also missing value \n",
    "\n",
    "    \n",
    "    #df[\"date\"]=df.apply(lambda row: droprows(df,\"date\") if (row[\"date\"] is null) else row[\"month\"],axis=1)\n",
    "    \n",
    "    \n",
    "    \n",
    "    \n",
    "#def calculateLocation(lat1,long1):\n",
    " #       geolocator = Nominatim(user_agent=\"specify_your_app_name_here\",timeout=3)\n",
    "  #      return geolocator.reverse(lat1,long1)\n",
    "\n",
    "#translator = Translator()\n",
    "#def location_locality(location,x):\n",
    " #   return loctranslator.translate(location.raw['address'][x]).text\n",
    "    \n",
    "    \n",
    "\n",
    "#calculate the min and max of lat in test data\n",
    "#lat_min=min(test.pickup_latitude.min(),test.dropoff_latitude.min())\n",
    "#lat_max=max(test.pickup_latitude.max(),test.dropoff_latitude.max())\n",
    "\n",
    "''' \n",
    "X_train, X_test, Y_train, Y_test = train_test_split(X, Y, test_size=0.3, random_state=42)\n",
    "\n",
    "logit = sm.Logit(Y_train ,X_train).fit()\n",
    "\n",
    "logit.summary()\n",
    "\n",
    "\n",
    "def normalize(df):\n",
    "    cnames = [\"fare_amount\",\"pickup_longitude\",\"pickup_latitude\",\"dropoff_longitude\",\"dropoff_latitude\",\"passenger_count\",\"day_week\",\n",
    "           \"day\",\"hr\",\"month\",\"year\",\"distance\"]\n",
    "    for i in cnames:\n",
    "            df[i] = (df[i] - min(df[i]))/(max(df[i]) - min(df[i]))\n",
    "    return df\n",
    "\n",
    "'''\n",
    "\n"
   ]
  },
  {
   "cell_type": "code",
   "execution_count": null,
   "metadata": {},
   "outputs": [],
   "source": []
  },
  {
   "cell_type": "code",
   "execution_count": null,
   "metadata": {},
   "outputs": [],
   "source": []
  }
 ],
 "metadata": {
  "kernelspec": {
   "display_name": "Python 3",
   "language": "python",
   "name": "python3"
  },
  "language_info": {
   "codemirror_mode": {
    "name": "ipython",
    "version": 3
   },
   "file_extension": ".py",
   "mimetype": "text/x-python",
   "name": "python",
   "nbconvert_exporter": "python",
   "pygments_lexer": "ipython3",
   "version": "3.7.1"
  }
 },
 "nbformat": 4,
 "nbformat_minor": 2
}
