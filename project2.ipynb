{
 "cells": [
  {
   "cell_type": "code",
   "execution_count": 145,
   "metadata": {},
   "outputs": [],
   "source": [
    "import pandas as pd #---->to create dataframes\n",
    "import numpy as np #---->for arthimetic operations\n",
    "import matplotlib.pyplot as plt # ---->or visualizations\n",
    "import seaborn as sns #---->for interactive visualizations\n",
    "from datetime import datetime #----->to split the pick_up date\n",
    "import calendar #---->to compare year , month from pickup date\n",
    "from math import sin,cos,atan2,sqrt,radians,asin#----> to calculate distance between 2 coordinates\n"
   ]
  },
  {
   "cell_type": "code",
   "execution_count": 146,
   "metadata": {},
   "outputs": [],
   "source": [
    "tr = pd.read_csv(\"train_cab.csv\")\n",
    "tr['distance'] = 0"
   ]
  },
  {
   "cell_type": "code",
   "execution_count": 147,
   "metadata": {},
   "outputs": [],
   "source": [
    "def data_cleaning_stage(df):\n",
    "    #df.info()\n",
    "    \n",
    "    def outliers(df,x,l,r):\n",
    "        value = []\n",
    "        print x\n",
    "        value = df[(df[x] < r)|(df[x] > l)][x]\n",
    "        print \"no. of outliers:\",len(value)\n",
    "        for i in value:\n",
    "            df[x].loc[i] = np.nan\n",
    "        df[x] = df[x].fillna(df[x].mean())\n",
    "        print \"no. of missing values after removing the outliers\",df[x].isnull().sum()\n",
    "           \n",
    "    outliers(df,'pickup_latitude',90.0,-90.0)\n",
    "    outliers(df,'pickup_longitude',180.0,-180.0)\n",
    "    outliers(df,'dropoff_longitude',90.0,-90.0)\n",
    "    outliers(df,'dropoff_latitude',180.0,-180.0)\n",
    "        \n",
    "    def calculateDistance(lat1,long1,lat2,long2):\n",
    "        radius = 6371\n",
    "        dlat = np.abs(np.radians(lat1)-np.radians(lat2))\n",
    "        dlong = np.abs(np.radians(long1)-np.radians(long2))\n",
    "        t1 = (np.sin(dlat/2)**2)+(np.cos(radians(lat1))*np.cos(radians(lat2))*np.sin(dlong/2)**2)\n",
    "        t2 = 2*(atan2(np.sqrt(t1),np.sqrt(1-t1)))\n",
    "        return radius*t2\n",
    "    \n",
    "    for i in range(0,len(df['pickup_latitude'])):\n",
    "        df['distance'].iloc[i]= calculateDistance(df['pickup_latitude'].iloc[i],df['pickup_longitude'].iloc[i],df['dropoff_latitude'].iloc[i],df['dropoff_longitude'].iloc[i])\n",
    "    \n",
    "    #print calculateDistance(90,180,0,0)\n",
    "    print \"end of the datacleaning stage\"\n",
    "    return df"
   ]
  },
  {
   "cell_type": "code",
   "execution_count": null,
   "metadata": {},
   "outputs": [
    {
     "name": "stdout",
     "output_type": "stream",
     "text": [
      "pickup_latitude\n",
      "no. of outliers: 1\n",
      "no. of missing values after removing the outliers 0\n",
      "pickup_longitude\n",
      "no. of outliers: 0\n",
      "no. of missing values after removing the outliers 0\n",
      "dropoff_longitude\n",
      "no. of outliers: 0\n",
      "no. of missing values after removing the outliers 0\n",
      "dropoff_latitude\n",
      "no. of outliers: 0\n",
      "no. of missing values after removing the outliers 0\n"
     ]
    }
   ],
   "source": [
    "tr = data_cleaning_stage(tr)\n",
    "#tr.describe()"
   ]
  },
  {
   "cell_type": "code",
   "execution_count": null,
   "metadata": {},
   "outputs": [],
   "source": []
  },
  {
   "cell_type": "code",
   "execution_count": null,
   "metadata": {},
   "outputs": [],
   "source": []
  },
  {
   "cell_type": "code",
   "execution_count": null,
   "metadata": {},
   "outputs": [],
   "source": []
  },
  {
   "cell_type": "code",
   "execution_count": null,
   "metadata": {},
   "outputs": [],
   "source": []
  },
  {
   "cell_type": "code",
   "execution_count": null,
   "metadata": {},
   "outputs": [],
   "source": []
  }
 ],
 "metadata": {
  "kernelspec": {
   "display_name": "Python 3",
   "language": "python",
   "name": "python3"
  },
  "language_info": {
   "codemirror_mode": {
    "name": "ipython",
    "version": 3
   },
   "file_extension": ".py",
   "mimetype": "text/x-python",
   "name": "python",
   "nbconvert_exporter": "python",
   "pygments_lexer": "ipython3",
   "version": "3.7.1"
  }
 },
 "nbformat": 4,
 "nbformat_minor": 2
}
