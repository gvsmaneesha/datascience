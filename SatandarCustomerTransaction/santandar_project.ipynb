{
 "cells": [
  {
   "cell_type": "code",
   "execution_count": 71,
   "metadata": {},
   "outputs": [],
   "source": [
    "import os\n",
    "import pandas as pd\n",
    "import matplotlib.pyplot as plt \n",
    "import seaborn as sns\n",
    "import numpy as np\n",
    "#Import Libraries for decision tree\n",
    "from sklearn import tree\n",
    "\n",
    "from sklearn import metrics\n",
    "from sklearn.metrics import accuracy_score\n",
    "from sklearn.metrics import confusion_matrix\n",
    "from sklearn.model_selection import train_test_split\n",
    "from sklearn.ensemble import RandomForestClassifier\n",
    "from sklearn.ensemble import ExtraTreesClassifier\n",
    "from sklearn.feature_selection import SelectFromModel\n",
    "from sklearn.linear_model import LogisticRegression\n",
    "import xgboost as xgb"
   ]
  },
  {
   "cell_type": "code",
   "execution_count": 72,
   "metadata": {},
   "outputs": [
    {
     "name": "stdout",
     "output_type": "stream",
     "text": [
      "There are no missing values present\n",
      "missing values train count :  0\n",
      "There are no missing values present\n",
      "missing values test count :  0\n",
      "There are no constant present\n",
      "constant values count :  0\n",
      "There are no constant present\n",
      "constant values count :  0\n"
     ]
    }
   ],
   "source": [
    "os.getcwd()\n",
    "os.chdir('/Users/maneeshagvs/Documents/datasets')\n",
    "train = pd.read_csv('Train_dataset.csv')\n",
    "test = pd.read_csv('Test_dataset.csv')\n",
    "test_id = test.ID_code\n",
    "Y =train['target']\n",
    "X = train.drop(columns=['target','ID_code'])\n",
    "test = test.drop(columns=['ID_code'])\n",
    "\n",
    "def missingvalues(df):\n",
    "    count = 0\n",
    "    for i in df.columns:\n",
    "        if(df[i].isnull().sum() != 0):\n",
    "            print(\"The missing values are present for\",df[i].isnull().sum(),i)\n",
    "            count+=1\n",
    "    if(count == 0):\n",
    "        print(\"There are no missing values present\")\n",
    "    return count\n",
    "\n",
    "def constants(df):\n",
    "    count = 0 \n",
    "    for i in df.columns:\n",
    "        if(len(df[i].unique()) == 1):\n",
    "            print(\"The value is constant\",len(df[i].unique()),i)\n",
    "            count+=1\n",
    "    if(count == 0):\n",
    "        print(\"There are no constant present\")\n",
    "    return count\n",
    "\n",
    "print(\"missing values train count : \",missingvalues(train))\n",
    "print(\"missing values test count : \",missingvalues(test))\n",
    "print(\"constant values count : \",constants(train))\n",
    "print(\"constant values count : \",constants(test))\n",
    "\n",
    "\n",
    "def Remove_duplicate():\n",
    "    remove = []\n",
    "    cols = train.columns\n",
    "    for i in range(len(cols)-1):\n",
    "        v = train[cols[i]].values\n",
    "    for j in range(i+1,len(cols)):\n",
    "        if np.array_equal(v,train[cols[j]].values):\n",
    "            remove.append(cols[j])\n",
    "    train.drop(remove, axis=1, inplace=True)\n",
    "    test.drop(remove, axis=1, inplace=True)\n",
    "    \n",
    "def accuracy_cal(i,actual,predicted):\n",
    "    CM = pd.crosstab(actual,predicted)\n",
    "    #let us save TP, TN, FP, FN\n",
    "    TN = CM.iloc[0,0]\n",
    "    FN = CM.iloc[1,0]\n",
    "    TP = CM.iloc[1,1]\n",
    "    FP = CM.iloc[0,1]\n",
    "    error_table.loc['Accuracy',i]=((TP+TN)*100)/(TP+TN+FP+FN)\n",
    "    error_table.loc['FalsePositive',i]=((FP*100)/(FP+TN))\n",
    "    print(\"Accuracy , FalsePositive:\",error_table.loc['Accuracy',i],error_table.loc['FalsePositive',i])\n",
    "    \n",
    "\n",
    "    \n",
    "train0 = train[ train['target']==0 ].copy()\n",
    "train1 = train[ train['target']==1 ].copy()"
   ]
  },
  {
   "cell_type": "code",
   "execution_count": 73,
   "metadata": {},
   "outputs": [],
   "source": [
    "Remove_duplicate()"
   ]
  },
  {
   "cell_type": "code",
   "execution_count": 74,
   "metadata": {},
   "outputs": [
    {
     "name": "stdout",
     "output_type": "stream",
     "text": [
      "Accuracy , FalsePositive: 90.06 0.01944174420219414\n"
     ]
    }
   ],
   "source": [
    "##################################### RANDOM FOREST ################################################################\n",
    "X2_train, X2_test, Y2_train, Y2_test = train_test_split(X, Y, test_size=0.2, random_state=40)\n",
    "RF_model = RandomForestClassifier(n_estimators = 20).fit(X2_train, Y2_train)\n",
    "RF_Predictions = RF_model.predict(X2_test)\n",
    "accuracy_cal('Random Forest',Y2_test, RF_Predictions)"
   ]
  },
  {
   "cell_type": "code",
   "execution_count": 75,
   "metadata": {},
   "outputs": [
    {
     "data": {
      "text/html": [
       "<div>\n",
       "<style scoped>\n",
       "    .dataframe tbody tr th:only-of-type {\n",
       "        vertical-align: middle;\n",
       "    }\n",
       "\n",
       "    .dataframe tbody tr th {\n",
       "        vertical-align: top;\n",
       "    }\n",
       "\n",
       "    .dataframe thead th {\n",
       "        text-align: right;\n",
       "    }\n",
       "</style>\n",
       "<table border=\"1\" class=\"dataframe\">\n",
       "  <thead>\n",
       "    <tr style=\"text-align: right;\">\n",
       "      <th></th>\n",
       "      <th>target</th>\n",
       "      <th>var_0</th>\n",
       "      <th>var_1</th>\n",
       "      <th>var_2</th>\n",
       "      <th>var_3</th>\n",
       "      <th>var_4</th>\n",
       "      <th>var_5</th>\n",
       "      <th>var_6</th>\n",
       "      <th>var_7</th>\n",
       "      <th>var_8</th>\n",
       "      <th>...</th>\n",
       "      <th>var_190</th>\n",
       "      <th>var_191</th>\n",
       "      <th>var_192</th>\n",
       "      <th>var_193</th>\n",
       "      <th>var_194</th>\n",
       "      <th>var_195</th>\n",
       "      <th>var_196</th>\n",
       "      <th>var_197</th>\n",
       "      <th>var_198</th>\n",
       "      <th>var_199</th>\n",
       "    </tr>\n",
       "  </thead>\n",
       "  <tbody>\n",
       "    <tr>\n",
       "      <td>count</td>\n",
       "      <td>200000.000000</td>\n",
       "      <td>200000.000000</td>\n",
       "      <td>200000.000000</td>\n",
       "      <td>200000.000000</td>\n",
       "      <td>200000.000000</td>\n",
       "      <td>200000.000000</td>\n",
       "      <td>200000.000000</td>\n",
       "      <td>200000.000000</td>\n",
       "      <td>200000.000000</td>\n",
       "      <td>200000.000000</td>\n",
       "      <td>...</td>\n",
       "      <td>200000.000000</td>\n",
       "      <td>200000.000000</td>\n",
       "      <td>200000.000000</td>\n",
       "      <td>200000.000000</td>\n",
       "      <td>200000.000000</td>\n",
       "      <td>200000.000000</td>\n",
       "      <td>200000.000000</td>\n",
       "      <td>200000.000000</td>\n",
       "      <td>200000.000000</td>\n",
       "      <td>200000.000000</td>\n",
       "    </tr>\n",
       "    <tr>\n",
       "      <td>mean</td>\n",
       "      <td>0.100490</td>\n",
       "      <td>10.679914</td>\n",
       "      <td>-1.627622</td>\n",
       "      <td>10.715192</td>\n",
       "      <td>6.796529</td>\n",
       "      <td>11.078333</td>\n",
       "      <td>-5.065317</td>\n",
       "      <td>5.408949</td>\n",
       "      <td>16.545850</td>\n",
       "      <td>0.284162</td>\n",
       "      <td>...</td>\n",
       "      <td>3.234440</td>\n",
       "      <td>7.438408</td>\n",
       "      <td>1.927839</td>\n",
       "      <td>3.331774</td>\n",
       "      <td>17.993784</td>\n",
       "      <td>-0.142088</td>\n",
       "      <td>2.303335</td>\n",
       "      <td>8.908158</td>\n",
       "      <td>15.870720</td>\n",
       "      <td>-3.326537</td>\n",
       "    </tr>\n",
       "    <tr>\n",
       "      <td>std</td>\n",
       "      <td>0.300653</td>\n",
       "      <td>3.040051</td>\n",
       "      <td>4.050044</td>\n",
       "      <td>2.640894</td>\n",
       "      <td>2.043319</td>\n",
       "      <td>1.623150</td>\n",
       "      <td>7.863267</td>\n",
       "      <td>0.866607</td>\n",
       "      <td>3.418076</td>\n",
       "      <td>3.332634</td>\n",
       "      <td>...</td>\n",
       "      <td>4.559922</td>\n",
       "      <td>3.023272</td>\n",
       "      <td>1.478423</td>\n",
       "      <td>3.992030</td>\n",
       "      <td>3.135162</td>\n",
       "      <td>1.429372</td>\n",
       "      <td>5.454369</td>\n",
       "      <td>0.921625</td>\n",
       "      <td>3.010945</td>\n",
       "      <td>10.438015</td>\n",
       "    </tr>\n",
       "    <tr>\n",
       "      <td>min</td>\n",
       "      <td>0.000000</td>\n",
       "      <td>0.408400</td>\n",
       "      <td>-15.043400</td>\n",
       "      <td>2.117100</td>\n",
       "      <td>-0.040200</td>\n",
       "      <td>5.074800</td>\n",
       "      <td>-32.562600</td>\n",
       "      <td>2.347300</td>\n",
       "      <td>5.349700</td>\n",
       "      <td>-10.505500</td>\n",
       "      <td>...</td>\n",
       "      <td>-14.093300</td>\n",
       "      <td>-2.691700</td>\n",
       "      <td>-3.814500</td>\n",
       "      <td>-11.783400</td>\n",
       "      <td>8.694400</td>\n",
       "      <td>-5.261000</td>\n",
       "      <td>-14.209600</td>\n",
       "      <td>5.960600</td>\n",
       "      <td>6.299300</td>\n",
       "      <td>-38.852800</td>\n",
       "    </tr>\n",
       "    <tr>\n",
       "      <td>25%</td>\n",
       "      <td>0.000000</td>\n",
       "      <td>8.453850</td>\n",
       "      <td>-4.740025</td>\n",
       "      <td>8.722475</td>\n",
       "      <td>5.254075</td>\n",
       "      <td>9.883175</td>\n",
       "      <td>-11.200350</td>\n",
       "      <td>4.767700</td>\n",
       "      <td>13.943800</td>\n",
       "      <td>-2.317800</td>\n",
       "      <td>...</td>\n",
       "      <td>-0.058825</td>\n",
       "      <td>5.157400</td>\n",
       "      <td>0.889775</td>\n",
       "      <td>0.584600</td>\n",
       "      <td>15.629800</td>\n",
       "      <td>-1.170700</td>\n",
       "      <td>-1.946925</td>\n",
       "      <td>8.252800</td>\n",
       "      <td>13.829700</td>\n",
       "      <td>-11.208475</td>\n",
       "    </tr>\n",
       "    <tr>\n",
       "      <td>50%</td>\n",
       "      <td>0.000000</td>\n",
       "      <td>10.524750</td>\n",
       "      <td>-1.608050</td>\n",
       "      <td>10.580000</td>\n",
       "      <td>6.825000</td>\n",
       "      <td>11.108250</td>\n",
       "      <td>-4.833150</td>\n",
       "      <td>5.385100</td>\n",
       "      <td>16.456800</td>\n",
       "      <td>0.393700</td>\n",
       "      <td>...</td>\n",
       "      <td>3.203600</td>\n",
       "      <td>7.347750</td>\n",
       "      <td>1.901300</td>\n",
       "      <td>3.396350</td>\n",
       "      <td>17.957950</td>\n",
       "      <td>-0.172700</td>\n",
       "      <td>2.408900</td>\n",
       "      <td>8.888200</td>\n",
       "      <td>15.934050</td>\n",
       "      <td>-2.819550</td>\n",
       "    </tr>\n",
       "    <tr>\n",
       "      <td>75%</td>\n",
       "      <td>0.000000</td>\n",
       "      <td>12.758200</td>\n",
       "      <td>1.358625</td>\n",
       "      <td>12.516700</td>\n",
       "      <td>8.324100</td>\n",
       "      <td>12.261125</td>\n",
       "      <td>0.924800</td>\n",
       "      <td>6.003000</td>\n",
       "      <td>19.102900</td>\n",
       "      <td>2.937900</td>\n",
       "      <td>...</td>\n",
       "      <td>6.406200</td>\n",
       "      <td>9.512525</td>\n",
       "      <td>2.949500</td>\n",
       "      <td>6.205800</td>\n",
       "      <td>20.396525</td>\n",
       "      <td>0.829600</td>\n",
       "      <td>6.556725</td>\n",
       "      <td>9.593300</td>\n",
       "      <td>18.064725</td>\n",
       "      <td>4.836800</td>\n",
       "    </tr>\n",
       "    <tr>\n",
       "      <td>max</td>\n",
       "      <td>1.000000</td>\n",
       "      <td>20.315000</td>\n",
       "      <td>10.376800</td>\n",
       "      <td>19.353000</td>\n",
       "      <td>13.188300</td>\n",
       "      <td>16.671400</td>\n",
       "      <td>17.251600</td>\n",
       "      <td>8.447700</td>\n",
       "      <td>27.691800</td>\n",
       "      <td>10.151300</td>\n",
       "      <td>...</td>\n",
       "      <td>18.440900</td>\n",
       "      <td>16.716500</td>\n",
       "      <td>8.402400</td>\n",
       "      <td>18.281800</td>\n",
       "      <td>27.928800</td>\n",
       "      <td>4.272900</td>\n",
       "      <td>18.321500</td>\n",
       "      <td>12.000400</td>\n",
       "      <td>26.079100</td>\n",
       "      <td>28.500700</td>\n",
       "    </tr>\n",
       "  </tbody>\n",
       "</table>\n",
       "<p>8 rows × 201 columns</p>\n",
       "</div>"
      ],
      "text/plain": [
       "              target          var_0          var_1          var_2  \\\n",
       "count  200000.000000  200000.000000  200000.000000  200000.000000   \n",
       "mean        0.100490      10.679914      -1.627622      10.715192   \n",
       "std         0.300653       3.040051       4.050044       2.640894   \n",
       "min         0.000000       0.408400     -15.043400       2.117100   \n",
       "25%         0.000000       8.453850      -4.740025       8.722475   \n",
       "50%         0.000000      10.524750      -1.608050      10.580000   \n",
       "75%         0.000000      12.758200       1.358625      12.516700   \n",
       "max         1.000000      20.315000      10.376800      19.353000   \n",
       "\n",
       "               var_3          var_4          var_5          var_6  \\\n",
       "count  200000.000000  200000.000000  200000.000000  200000.000000   \n",
       "mean        6.796529      11.078333      -5.065317       5.408949   \n",
       "std         2.043319       1.623150       7.863267       0.866607   \n",
       "min        -0.040200       5.074800     -32.562600       2.347300   \n",
       "25%         5.254075       9.883175     -11.200350       4.767700   \n",
       "50%         6.825000      11.108250      -4.833150       5.385100   \n",
       "75%         8.324100      12.261125       0.924800       6.003000   \n",
       "max        13.188300      16.671400      17.251600       8.447700   \n",
       "\n",
       "               var_7          var_8  ...        var_190        var_191  \\\n",
       "count  200000.000000  200000.000000  ...  200000.000000  200000.000000   \n",
       "mean       16.545850       0.284162  ...       3.234440       7.438408   \n",
       "std         3.418076       3.332634  ...       4.559922       3.023272   \n",
       "min         5.349700     -10.505500  ...     -14.093300      -2.691700   \n",
       "25%        13.943800      -2.317800  ...      -0.058825       5.157400   \n",
       "50%        16.456800       0.393700  ...       3.203600       7.347750   \n",
       "75%        19.102900       2.937900  ...       6.406200       9.512525   \n",
       "max        27.691800      10.151300  ...      18.440900      16.716500   \n",
       "\n",
       "             var_192        var_193        var_194        var_195  \\\n",
       "count  200000.000000  200000.000000  200000.000000  200000.000000   \n",
       "mean        1.927839       3.331774      17.993784      -0.142088   \n",
       "std         1.478423       3.992030       3.135162       1.429372   \n",
       "min        -3.814500     -11.783400       8.694400      -5.261000   \n",
       "25%         0.889775       0.584600      15.629800      -1.170700   \n",
       "50%         1.901300       3.396350      17.957950      -0.172700   \n",
       "75%         2.949500       6.205800      20.396525       0.829600   \n",
       "max         8.402400      18.281800      27.928800       4.272900   \n",
       "\n",
       "             var_196        var_197        var_198        var_199  \n",
       "count  200000.000000  200000.000000  200000.000000  200000.000000  \n",
       "mean        2.303335       8.908158      15.870720      -3.326537  \n",
       "std         5.454369       0.921625       3.010945      10.438015  \n",
       "min       -14.209600       5.960600       6.299300     -38.852800  \n",
       "25%        -1.946925       8.252800      13.829700     -11.208475  \n",
       "50%         2.408900       8.888200      15.934050      -2.819550  \n",
       "75%         6.556725       9.593300      18.064725       4.836800  \n",
       "max        18.321500      12.000400      26.079100      28.500700  \n",
       "\n",
       "[8 rows x 201 columns]"
      ]
     },
     "execution_count": 75,
     "metadata": {},
     "output_type": "execute_result"
    }
   ],
   "source": [
    "train.describe()"
   ]
  },
  {
   "cell_type": "code",
   "execution_count": 76,
   "metadata": {},
   "outputs": [
    {
     "data": {
      "text/html": [
       "<div>\n",
       "<style scoped>\n",
       "    .dataframe tbody tr th:only-of-type {\n",
       "        vertical-align: middle;\n",
       "    }\n",
       "\n",
       "    .dataframe tbody tr th {\n",
       "        vertical-align: top;\n",
       "    }\n",
       "\n",
       "    .dataframe thead th {\n",
       "        text-align: right;\n",
       "    }\n",
       "</style>\n",
       "<table border=\"1\" class=\"dataframe\">\n",
       "  <thead>\n",
       "    <tr style=\"text-align: right;\">\n",
       "      <th></th>\n",
       "      <th>var_0</th>\n",
       "      <th>var_1</th>\n",
       "      <th>var_2</th>\n",
       "      <th>var_3</th>\n",
       "      <th>var_4</th>\n",
       "      <th>var_5</th>\n",
       "      <th>var_6</th>\n",
       "      <th>var_7</th>\n",
       "      <th>var_8</th>\n",
       "      <th>var_9</th>\n",
       "      <th>...</th>\n",
       "      <th>var_190</th>\n",
       "      <th>var_191</th>\n",
       "      <th>var_192</th>\n",
       "      <th>var_193</th>\n",
       "      <th>var_194</th>\n",
       "      <th>var_195</th>\n",
       "      <th>var_196</th>\n",
       "      <th>var_197</th>\n",
       "      <th>var_198</th>\n",
       "      <th>var_199</th>\n",
       "    </tr>\n",
       "  </thead>\n",
       "  <tbody>\n",
       "    <tr>\n",
       "      <td>count</td>\n",
       "      <td>200000.000000</td>\n",
       "      <td>200000.000000</td>\n",
       "      <td>200000.000000</td>\n",
       "      <td>200000.000000</td>\n",
       "      <td>200000.000000</td>\n",
       "      <td>200000.000000</td>\n",
       "      <td>200000.000000</td>\n",
       "      <td>200000.000000</td>\n",
       "      <td>200000.000000</td>\n",
       "      <td>200000.000000</td>\n",
       "      <td>...</td>\n",
       "      <td>200000.000000</td>\n",
       "      <td>200000.000000</td>\n",
       "      <td>200000.000000</td>\n",
       "      <td>200000.000000</td>\n",
       "      <td>200000.000000</td>\n",
       "      <td>200000.000000</td>\n",
       "      <td>200000.000000</td>\n",
       "      <td>200000.000000</td>\n",
       "      <td>200000.000000</td>\n",
       "      <td>200000.000000</td>\n",
       "    </tr>\n",
       "    <tr>\n",
       "      <td>mean</td>\n",
       "      <td>10.658737</td>\n",
       "      <td>-1.624244</td>\n",
       "      <td>10.707452</td>\n",
       "      <td>6.788214</td>\n",
       "      <td>11.076399</td>\n",
       "      <td>-5.050558</td>\n",
       "      <td>5.415164</td>\n",
       "      <td>16.529143</td>\n",
       "      <td>0.277135</td>\n",
       "      <td>7.569407</td>\n",
       "      <td>...</td>\n",
       "      <td>3.189766</td>\n",
       "      <td>7.458269</td>\n",
       "      <td>1.925944</td>\n",
       "      <td>3.322016</td>\n",
       "      <td>17.996967</td>\n",
       "      <td>-0.133657</td>\n",
       "      <td>2.290899</td>\n",
       "      <td>8.912428</td>\n",
       "      <td>15.869184</td>\n",
       "      <td>-3.246342</td>\n",
       "    </tr>\n",
       "    <tr>\n",
       "      <td>std</td>\n",
       "      <td>3.036716</td>\n",
       "      <td>4.040509</td>\n",
       "      <td>2.633888</td>\n",
       "      <td>2.052724</td>\n",
       "      <td>1.616456</td>\n",
       "      <td>7.869293</td>\n",
       "      <td>0.864686</td>\n",
       "      <td>3.424482</td>\n",
       "      <td>3.333375</td>\n",
       "      <td>1.231865</td>\n",
       "      <td>...</td>\n",
       "      <td>4.551239</td>\n",
       "      <td>3.025189</td>\n",
       "      <td>1.479966</td>\n",
       "      <td>3.995599</td>\n",
       "      <td>3.140652</td>\n",
       "      <td>1.429678</td>\n",
       "      <td>5.446346</td>\n",
       "      <td>0.920904</td>\n",
       "      <td>3.008717</td>\n",
       "      <td>10.398589</td>\n",
       "    </tr>\n",
       "    <tr>\n",
       "      <td>min</td>\n",
       "      <td>0.188700</td>\n",
       "      <td>-15.043400</td>\n",
       "      <td>2.355200</td>\n",
       "      <td>-0.022400</td>\n",
       "      <td>5.484400</td>\n",
       "      <td>-27.767000</td>\n",
       "      <td>2.216400</td>\n",
       "      <td>5.713700</td>\n",
       "      <td>-9.956000</td>\n",
       "      <td>4.243300</td>\n",
       "      <td>...</td>\n",
       "      <td>-14.093300</td>\n",
       "      <td>-2.407000</td>\n",
       "      <td>-3.340900</td>\n",
       "      <td>-11.413100</td>\n",
       "      <td>9.382800</td>\n",
       "      <td>-4.911900</td>\n",
       "      <td>-13.944200</td>\n",
       "      <td>6.169600</td>\n",
       "      <td>6.584000</td>\n",
       "      <td>-39.457800</td>\n",
       "    </tr>\n",
       "    <tr>\n",
       "      <td>25%</td>\n",
       "      <td>8.442975</td>\n",
       "      <td>-4.700125</td>\n",
       "      <td>8.735600</td>\n",
       "      <td>5.230500</td>\n",
       "      <td>9.891075</td>\n",
       "      <td>-11.201400</td>\n",
       "      <td>4.772600</td>\n",
       "      <td>13.933900</td>\n",
       "      <td>-2.303900</td>\n",
       "      <td>6.623800</td>\n",
       "      <td>...</td>\n",
       "      <td>-0.095000</td>\n",
       "      <td>5.166500</td>\n",
       "      <td>0.882975</td>\n",
       "      <td>0.587600</td>\n",
       "      <td>15.634775</td>\n",
       "      <td>-1.160700</td>\n",
       "      <td>-1.948600</td>\n",
       "      <td>8.260075</td>\n",
       "      <td>13.847275</td>\n",
       "      <td>-11.124000</td>\n",
       "    </tr>\n",
       "    <tr>\n",
       "      <td>50%</td>\n",
       "      <td>10.513800</td>\n",
       "      <td>-1.590500</td>\n",
       "      <td>10.560700</td>\n",
       "      <td>6.822350</td>\n",
       "      <td>11.099750</td>\n",
       "      <td>-4.834100</td>\n",
       "      <td>5.391600</td>\n",
       "      <td>16.422700</td>\n",
       "      <td>0.372000</td>\n",
       "      <td>7.632000</td>\n",
       "      <td>...</td>\n",
       "      <td>3.162400</td>\n",
       "      <td>7.379000</td>\n",
       "      <td>1.892600</td>\n",
       "      <td>3.428500</td>\n",
       "      <td>17.977600</td>\n",
       "      <td>-0.162000</td>\n",
       "      <td>2.403600</td>\n",
       "      <td>8.892800</td>\n",
       "      <td>15.943400</td>\n",
       "      <td>-2.725950</td>\n",
       "    </tr>\n",
       "    <tr>\n",
       "      <td>75%</td>\n",
       "      <td>12.739600</td>\n",
       "      <td>1.343400</td>\n",
       "      <td>12.495025</td>\n",
       "      <td>8.327600</td>\n",
       "      <td>12.253400</td>\n",
       "      <td>0.942575</td>\n",
       "      <td>6.005800</td>\n",
       "      <td>19.094550</td>\n",
       "      <td>2.930025</td>\n",
       "      <td>8.584825</td>\n",
       "      <td>...</td>\n",
       "      <td>6.336475</td>\n",
       "      <td>9.531100</td>\n",
       "      <td>2.956000</td>\n",
       "      <td>6.174200</td>\n",
       "      <td>20.391725</td>\n",
       "      <td>0.837900</td>\n",
       "      <td>6.519800</td>\n",
       "      <td>9.595900</td>\n",
       "      <td>18.045200</td>\n",
       "      <td>4.935400</td>\n",
       "    </tr>\n",
       "    <tr>\n",
       "      <td>max</td>\n",
       "      <td>22.323400</td>\n",
       "      <td>9.385100</td>\n",
       "      <td>18.714100</td>\n",
       "      <td>13.142000</td>\n",
       "      <td>16.037100</td>\n",
       "      <td>17.253700</td>\n",
       "      <td>8.302500</td>\n",
       "      <td>28.292800</td>\n",
       "      <td>9.665500</td>\n",
       "      <td>11.003600</td>\n",
       "      <td>...</td>\n",
       "      <td>20.359000</td>\n",
       "      <td>16.716500</td>\n",
       "      <td>8.005000</td>\n",
       "      <td>17.632600</td>\n",
       "      <td>27.947800</td>\n",
       "      <td>4.545400</td>\n",
       "      <td>15.920700</td>\n",
       "      <td>12.275800</td>\n",
       "      <td>26.538400</td>\n",
       "      <td>27.907400</td>\n",
       "    </tr>\n",
       "  </tbody>\n",
       "</table>\n",
       "<p>8 rows × 200 columns</p>\n",
       "</div>"
      ],
      "text/plain": [
       "               var_0          var_1          var_2          var_3  \\\n",
       "count  200000.000000  200000.000000  200000.000000  200000.000000   \n",
       "mean       10.658737      -1.624244      10.707452       6.788214   \n",
       "std         3.036716       4.040509       2.633888       2.052724   \n",
       "min         0.188700     -15.043400       2.355200      -0.022400   \n",
       "25%         8.442975      -4.700125       8.735600       5.230500   \n",
       "50%        10.513800      -1.590500      10.560700       6.822350   \n",
       "75%        12.739600       1.343400      12.495025       8.327600   \n",
       "max        22.323400       9.385100      18.714100      13.142000   \n",
       "\n",
       "               var_4          var_5          var_6          var_7  \\\n",
       "count  200000.000000  200000.000000  200000.000000  200000.000000   \n",
       "mean       11.076399      -5.050558       5.415164      16.529143   \n",
       "std         1.616456       7.869293       0.864686       3.424482   \n",
       "min         5.484400     -27.767000       2.216400       5.713700   \n",
       "25%         9.891075     -11.201400       4.772600      13.933900   \n",
       "50%        11.099750      -4.834100       5.391600      16.422700   \n",
       "75%        12.253400       0.942575       6.005800      19.094550   \n",
       "max        16.037100      17.253700       8.302500      28.292800   \n",
       "\n",
       "               var_8          var_9  ...        var_190        var_191  \\\n",
       "count  200000.000000  200000.000000  ...  200000.000000  200000.000000   \n",
       "mean        0.277135       7.569407  ...       3.189766       7.458269   \n",
       "std         3.333375       1.231865  ...       4.551239       3.025189   \n",
       "min        -9.956000       4.243300  ...     -14.093300      -2.407000   \n",
       "25%        -2.303900       6.623800  ...      -0.095000       5.166500   \n",
       "50%         0.372000       7.632000  ...       3.162400       7.379000   \n",
       "75%         2.930025       8.584825  ...       6.336475       9.531100   \n",
       "max         9.665500      11.003600  ...      20.359000      16.716500   \n",
       "\n",
       "             var_192        var_193        var_194        var_195  \\\n",
       "count  200000.000000  200000.000000  200000.000000  200000.000000   \n",
       "mean        1.925944       3.322016      17.996967      -0.133657   \n",
       "std         1.479966       3.995599       3.140652       1.429678   \n",
       "min        -3.340900     -11.413100       9.382800      -4.911900   \n",
       "25%         0.882975       0.587600      15.634775      -1.160700   \n",
       "50%         1.892600       3.428500      17.977600      -0.162000   \n",
       "75%         2.956000       6.174200      20.391725       0.837900   \n",
       "max         8.005000      17.632600      27.947800       4.545400   \n",
       "\n",
       "             var_196        var_197        var_198        var_199  \n",
       "count  200000.000000  200000.000000  200000.000000  200000.000000  \n",
       "mean        2.290899       8.912428      15.869184      -3.246342  \n",
       "std         5.446346       0.920904       3.008717      10.398589  \n",
       "min       -13.944200       6.169600       6.584000     -39.457800  \n",
       "25%        -1.948600       8.260075      13.847275     -11.124000  \n",
       "50%         2.403600       8.892800      15.943400      -2.725950  \n",
       "75%         6.519800       9.595900      18.045200       4.935400  \n",
       "max        15.920700      12.275800      26.538400      27.907400  \n",
       "\n",
       "[8 rows x 200 columns]"
      ]
     },
     "execution_count": 76,
     "metadata": {},
     "output_type": "execute_result"
    }
   ],
   "source": [
    "test.describe()"
   ]
  },
  {
   "cell_type": "code",
   "execution_count": 77,
   "metadata": {},
   "outputs": [
    {
     "data": {
      "image/png": "[encoded data removed]",
      "text/plain": [
       "<Figure size 1296x576 with 2 Axes>"
      ]
     },
     "metadata": {
      "needs_background": "light"
     },
     "output_type": "display_data"
    }
   ],
   "source": [
    "f,ax=plt.subplots(1,2,figsize=(18,8))\n",
    "train['target'].value_counts().plot.pie(explode=[0,0.1],autopct='%1.1f%%',ax=ax[0],shadow=True)\n",
    "ax[0].set_title('target')\n",
    "ax[0].set_ylabel('')\n",
    "s = sns.countplot(train[\"target\"], \n",
    "                   order = train[\"target\"].value_counts().index)\n",
    "for p, label in zip(s.patches, train[\"target\"].value_counts()):\n",
    "    s.annotate(label, (p.get_x()+0.375, p.get_height()+0.15))\n",
    "\n",
    "plt.show()"
   ]
  },
  {
   "cell_type": "code",
   "execution_count": 78,
   "metadata": {},
   "outputs": [
    {
     "name": "stdout",
     "output_type": "stream",
     "text": [
      "size of data is: 200000\n",
      "for target  0 =\n",
      "89.95100000000001 %\n",
      "for target  1 =\n",
      "10.049 %\n"
     ]
    }
   ],
   "source": [
    "check_balance(train,'target')"
   ]
  },
  {
   "cell_type": "code",
   "execution_count": null,
   "metadata": {},
   "outputs": [],
   "source": [
    "(pd.Series(RF_model.feature_importances_, index=X.columns).nlargest(20).plot(kind='bar'))"
   ]
  },
  {
   "cell_type": "code",
   "execution_count": null,
   "metadata": {},
   "outputs": [],
   "source": [
    "feature_importance = pd.DataFrame(pd.Series(rf.feature_importances_, index=x.columns).nlargest(20))\n",
    "train_imp = train.loc[:,feature_importance.index]\n",
    "f, ax = plt.subplots(figsize=(7, 5))\n",
    "\n",
    "#Generate correlation matrix\n",
    "corr = train_imp.corr()\n",
    "\n",
    "#Plot using seaborn library\n",
    "sns.heatmap(corr, mask=np.zeros_like(corr, dtype=np.bool), cmap=sns.diverging_palette(220, 10, as_cmap=True),\n",
    "            square=True, ax=ax)"
   ]
  },
  {
   "cell_type": "code",
   "execution_count": 70,
   "metadata": {},
   "outputs": [
    {
     "ename": "NameError",
     "evalue": "name 'train_imp' is not defined",
     "output_type": "error",
     "traceback": [
      "\u001b[0;31m---------------------------------------------------------------------------\u001b[0m",
      "\u001b[0;31mNameError\u001b[0m                                 Traceback (most recent call last)",
      "\u001b[0;32m<ipython-input-70-2e790b39f1ca>\u001b[0m in \u001b[0;36m<module>\u001b[0;34m\u001b[0m\n\u001b[1;32m      1\u001b[0m \u001b[0mplt\u001b[0m\u001b[0;34m.\u001b[0m\u001b[0mfigure\u001b[0m\u001b[0;34m(\u001b[0m\u001b[0mfigsize\u001b[0m\u001b[0;34m=\u001b[0m\u001b[0;34m(\u001b[0m\u001b[0;36m8\u001b[0m\u001b[0;34m,\u001b[0m\u001b[0;36m5\u001b[0m\u001b[0;34m)\u001b[0m\u001b[0;34m)\u001b[0m\u001b[0;34m\u001b[0m\u001b[0m\n\u001b[0;32m----> 2\u001b[0;31m \u001b[0;32mfor\u001b[0m \u001b[0mi\u001b[0m \u001b[0;32min\u001b[0m \u001b[0mtrain_imp\u001b[0m\u001b[0;34m.\u001b[0m\u001b[0mcolumns\u001b[0m\u001b[0;34m:\u001b[0m\u001b[0;34m\u001b[0m\u001b[0m\n\u001b[0m\u001b[1;32m      3\u001b[0m     \u001b[0msns\u001b[0m\u001b[0;34m.\u001b[0m\u001b[0mdistplot\u001b[0m\u001b[0;34m(\u001b[0m\u001b[0mtrain0\u001b[0m\u001b[0;34m[\u001b[0m\u001b[0mi\u001b[0m\u001b[0;34m]\u001b[0m\u001b[0;34m,\u001b[0m \u001b[0mlabel\u001b[0m \u001b[0;34m=\u001b[0m \u001b[0;34m't=0'\u001b[0m\u001b[0;34m)\u001b[0m\u001b[0;34m\u001b[0m\u001b[0m\n\u001b[1;32m      4\u001b[0m     \u001b[0msns\u001b[0m\u001b[0;34m.\u001b[0m\u001b[0mdistplot\u001b[0m\u001b[0;34m(\u001b[0m\u001b[0mtrain1\u001b[0m\u001b[0;34m[\u001b[0m\u001b[0mi\u001b[0m\u001b[0;34m]\u001b[0m\u001b[0;34m,\u001b[0m \u001b[0mlabel\u001b[0m \u001b[0;34m=\u001b[0m \u001b[0;34m't=1'\u001b[0m\u001b[0;34m)\u001b[0m\u001b[0;34m\u001b[0m\u001b[0m\n\u001b[1;32m      5\u001b[0m     \u001b[0mplt\u001b[0m\u001b[0;34m.\u001b[0m\u001b[0mlegend\u001b[0m\u001b[0;34m(\u001b[0m\u001b[0;34m)\u001b[0m\u001b[0;34m\u001b[0m\u001b[0m\n",
      "\u001b[0;31mNameError\u001b[0m: name 'train_imp' is not defined"
     ]
    },
    {
     "data": {
      "text/plain": [
       "<Figure size 576x360 with 0 Axes>"
      ]
     },
     "metadata": {},
     "output_type": "display_data"
    }
   ],
   "source": [
    "plt.figure(figsize=(8,5))\n",
    "for i in train_imp.columns:\n",
    "    sns.distplot(train0[i], label = 't=0')\n",
    "    sns.distplot(train1[i], label = 't=1')\n",
    "    plt.legend()\n",
    "    plt.xlim(xx)\n",
    "    plt.xlabel(i)\n",
    "    plt.show()"
   ]
  },
  {
   "cell_type": "code",
   "execution_count": 178,
   "metadata": {},
   "outputs": [
    {
     "name": "stderr",
     "output_type": "stream",
     "text": [
      "/anaconda3/lib/python3.6/site-packages/ipykernel_launcher.py:1: FutureWarning: `Series.plot()` should not be called with positional arguments, only keyword arguments. The order of positional arguments will change in the future. Use `Series.plot(kind='hist')` instead of `Series.plot('hist',)`.\n",
      "  \"\"\"Entry point for launching an IPython kernel.\n"
     ]
    },
    {
     "data": {
      "image/png": "[encoded data removed]",
      "text/plain": [
       "<Figure size 432x288 with 1 Axes>"
      ]
     },
     "metadata": {
      "needs_background": "light"
     },
     "output_type": "display_data"
    }
   ],
   "source": [
    "train[train.columns[2:]].mean().plot('hist');plt.title('Mean Frequency');"
   ]
  },
  {
   "cell_type": "code",
   "execution_count": 25,
   "metadata": {},
   "outputs": [
    {
     "data": {
      "text/plain": [
       "<matplotlib.axes._subplots.AxesSubplot at 0x10469a048>"
      ]
     },
     "execution_count": 25,
     "metadata": {},
     "output_type": "execute_result"
    },
    {
     "data": {
      "image/png": "[encoded data removed]",
      "text/plain": [
       "<Figure size 432x288 with 1 Axes>"
      ]
     },
     "metadata": {
      "needs_background": "light"
     },
     "output_type": "display_data"
    }
   ],
   "source": []
  },
  {
   "cell_type": "code",
   "execution_count": 31,
   "metadata": {},
   "outputs": [
    {
     "name": "stdout",
     "output_type": "stream",
     "text": [
      "Accuracy , FalsePositive: 92.115 1.7228298081015563\n"
     ]
    }
   ],
   "source": [
    "###################################### NAIVE_BAYES ###################################################################\n",
    "#Naive Bayes\n",
    "from sklearn.naive_bayes import GaussianNB\n",
    "#Naive Bayes implementation\n",
    "X2_train, X2_test, Y2_train, Y2_test = train_test_split(X, Y, test_size=0.3, random_state=40)\n",
    "\n",
    "NB_model = GaussianNB().fit(X3_train, Y3_train)\n",
    "\n",
    "#predict test cases\n",
    "NB_Predictions = NB_model.predict(X3_test)\n",
    "\n",
    "accuracy_cal('NaviesBayes',Y3_test,NB_Predictions)"
   ]
  },
  {
   "cell_type": "code",
   "execution_count": 33,
   "metadata": {},
   "outputs": [
    {
     "name": "stdout",
     "output_type": "stream",
     "text": [
      "Accuracy , FalsePositive: 83.70833333333333 9.222968596754196\n"
     ]
    }
   ],
   "source": [
    "#################################### DECISION TREE ##################################################################\n",
    "#Decision Tree\n",
    "X4_train, X4_test, Y4_train, Y4_test = train_test_split(X, Y, test_size=0.3,random_state=40)\n",
    "\n",
    "C50_model = tree.DecisionTreeClassifier(criterion='entropy').fit(X4_train, Y4_train)\n",
    "\n",
    "#predict new test cases\n",
    "C50_Predictions = C50_model.predict(X4_test)\n",
    "accuracy_cal('DecisionTree',Y4_test,C50_Predictions) "
   ]
  },
  {
   "cell_type": "code",
   "execution_count": 47,
   "metadata": {},
   "outputs": [],
   "source": [
    "# split X and y into training and testing sets\n",
    "\n",
    "X5_train,X5_test,Y5_train,Y5_test=train_test_split(X,Y,test_size=0.25,random_state=0)\n"
   ]
  },
  {
   "cell_type": "code",
   "execution_count": 49,
   "metadata": {},
   "outputs": [
    {
     "name": "stderr",
     "output_type": "stream",
     "text": [
      "/anaconda3/lib/python3.6/site-packages/sklearn/linear_model/logistic.py:433: FutureWarning: Default solver will be changed to 'lbfgs' in 0.22. Specify a solver to silence this warning.\n",
      "  FutureWarning)\n"
     ]
    }
   ],
   "source": [
    "################################## LOGISTIC REGRESSION ##############################################################\n",
    "\n",
    "# import the class\n",
    "from sklearn.linear_model import LogisticRegression\n",
    "\n",
    "# instantiate the model (using the default parameters)\n",
    "logreg = LogisticRegression()\n",
    "\n",
    "# fit the model with data\n",
    "logreg.fit(X5_train,Y5_train)\n",
    "\n",
    "#\n",
    "Y5_pred=logreg.predict(X5_test)"
   ]
  },
  {
   "cell_type": "code",
   "execution_count": 52,
   "metadata": {},
   "outputs": [
    {
     "data": {
      "text/plain": [
       "array([[44259,   643],\n",
       "       [ 3735,  1363]])"
      ]
     },
     "execution_count": 52,
     "metadata": {},
     "output_type": "execute_result"
    }
   ],
   "source": [
    "cnf_matrix = metrics.confusion_matrix(Y5_test, Y5_pred)\n",
    "cnf_matrix"
   ]
  },
  {
   "cell_type": "code",
   "execution_count": 53,
   "metadata": {},
   "outputs": [
    {
     "data": {
      "text/plain": [
       "Text(0.5,257.44,'Predicted label')"
      ]
     },
     "execution_count": 53,
     "metadata": {},
     "output_type": "execute_result"
    },
    {
     "data": {
      "image/png": "[encoded data removed]",
      "text/plain": [
       "<Figure size 432x288 with 2 Axes>"
      ]
     },
     "metadata": {
      "needs_background": "light"
     },
     "output_type": "display_data"
    }
   ],
   "source": [
    "class_names=[0,1] # name  of classes\n",
    "fig, ax = plt.subplots()\n",
    "tick_marks = np.arange(len(class_names))\n",
    "plt.xticks(tick_marks, class_names)\n",
    "plt.yticks(tick_marks, class_names)\n",
    "# create heatmap\n",
    "sns.heatmap(pd.DataFrame(cnf_matrix), annot=True, cmap=\"YlGnBu\" ,fmt='g')\n",
    "ax.xaxis.set_label_position(\"top\")\n",
    "plt.tight_layout()\n",
    "plt.title('Confusion matrix', y=1.1)\n",
    "plt.ylabel('Actual label')\n",
    "plt.xlabel('Predicted label')"
   ]
  },
  {
   "cell_type": "code",
   "execution_count": 54,
   "metadata": {},
   "outputs": [
    {
     "data": {
      "image/png": "[encoded data removed]",
      "text/plain": [
       "<Figure size 432x288 with 1 Axes>"
      ]
     },
     "metadata": {
      "needs_background": "light"
     },
     "output_type": "display_data"
    }
   ],
   "source": [
    "y_pred_proba = logreg.predict_proba(X5_test)[::,1]\n",
    "fpr, tpr, _ = metrics.roc_curve(Y5_test,  y_pred_proba)\n",
    "auc = metrics.roc_auc_score(Y5_test, y_pred_proba)\n",
    "plt.plot(fpr,tpr,label=\"data 1, auc=\"+str(auc))\n",
    "plt.legend(loc=4)\n",
    "plt.show()"
   ]
  },
  {
   "cell_type": "code",
   "execution_count": 67,
   "metadata": {},
   "outputs": [
    {
     "name": "stderr",
     "output_type": "stream",
     "text": [
      "/anaconda3/lib/python3.6/site-packages/sklearn/ensemble/forest.py:246: FutureWarning: The default value of n_estimators will change from 10 in version 0.20 to 100 in 0.22.\n",
      "  \"10 in version 0.20 to 100 in 0.22.\", FutureWarning)\n"
     ]
    }
   ],
   "source": [
    "X1_train, X1_test, Y1_train, Y1_test = train_test_split(X, Y, test_size=0.3, random_state=40)\n",
    "## # Feature selection\n",
    "clf = ExtraTreesClassifier(random_state=1729)\n",
    "selector = clf.fit(X1_train, Y1_train)"
   ]
  },
  {
   "cell_type": "code",
   "execution_count": 68,
   "metadata": {},
   "outputs": [
    {
     "name": "stdout",
     "output_type": "stream",
     "text": [
      "(140000, 76) (60000, 76) (200000, 76)\n",
      "Accuracy , FalsePositive: 50.0 50.0\n",
      "Roc AUC:  0.83741281014033\n"
     ]
    },
    {
     "data": {
      "image/png": "[encoded data removed]",
      "text/plain": [
       "<Figure size 432x288 with 1 Axes>"
      ]
     },
     "metadata": {
      "needs_background": "light"
     },
     "output_type": "display_data"
    }
   ],
   "source": [
    " ####################################XGBOOST ############################################################################\n",
    "\n",
    "fs = SelectFromModel(selector, prefit=True)\n",
    "X1_train = fs.transform(X1_train)\n",
    "X1_test = fs.transform(X1_test)\n",
    "test = fs.transform(test)\n",
    "\n",
    "print(X1_train.shape, X1_test.shape, test.shape)\n",
    "\n",
    "## # Train Model\n",
    "# classifier from xgboost\n",
    "m2_xgb = xgb.XGBClassifier(n_estimators=110, nthread=-1, max_depth = 4,seed=1729)\n",
    "m2_xgb.fit(X1_train,Y1_train, eval_metric=\"auc\", verbose = False,eval_set=[(X1_test, Y1_test)])\n",
    "\n",
    "# calculate the auc score\n",
    "print(\"Roc AUC: \", metrics.roc_auc_score(Y1_test, m2_xgb.predict_proba(X1_test)[:,1],\n",
    "              average='macro'))\n",
    "\n",
    "auc = metrics.roc_auc_score(Y1_test, m2_xgb.predict_proba(X1_test)[:,1])\n",
    "plt.plot(fpr,tpr,label=\"data 1, auc=\"+str(auc))\n",
    "plt.legend(loc=4)\n",
    "plt.show()"
   ]
  },
  {
   "cell_type": "code",
   "execution_count": null,
   "metadata": {},
   "outputs": [],
   "source": [
    "## final Submission\n",
    "probs = m2_xgb.predict_proba(test)\n",
    "submission = pd.DataFrame({\"ID\":test_id, \"TARGET\": probs[:,1]})\n",
    "submission.to_csv(\"submission.csv\", index=False)"
   ]
  },
  {
   "cell_type": "code",
   "execution_count": 79,
   "metadata": {},
   "outputs": [
    {
     "name": "stdout",
     "output_type": "stream",
     "text": [
      "               Random Forest  NaviesBayes  DecisionTree  XGBoost\n",
      "Accuracy           90.060000     92.11500     83.708333     50.0\n",
      "FalsePositive       0.019442      1.72283      9.222969     50.0\n"
     ]
    }
   ],
   "source": [
    "###over error metrics\n",
    "\n",
    "print(error_table)"
   ]
  },
  {
   "cell_type": "code",
   "execution_count": null,
   "metadata": {},
   "outputs": [],
   "source": []
  }
 ],
 "metadata": {
  "kernelspec": {
   "display_name": "Python 3",
   "language": "python",
   "name": "python3"
  },
  "language_info": {
   "codemirror_mode": {
    "name": "ipython",
    "version": 3
   },
   "file_extension": ".py",
   "mimetype": "text/x-python",
   "name": "python",
   "nbconvert_exporter": "python",
   "pygments_lexer": "ipython3",
   "version": "3.6.0"
  }
 },
 "nbformat": 4,
 "nbformat_minor": 2
}
